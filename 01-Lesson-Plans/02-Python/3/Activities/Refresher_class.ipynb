{
 "cells": [
  {
   "cell_type": "code",
   "execution_count": 6,
   "id": "602bd929-4c45-4098-8e1d-3602356d0508",
   "metadata": {},
   "outputs": [],
   "source": [
    "# variable\n",
    "my_int = 23\n",
    "my_string = \"Frankfurter\"\n",
    "my_bool = True\n",
    "my_float = 65.40"
   ]
  },
  {
   "cell_type": "code",
   "execution_count": 7,
   "id": "d7cba9e1-2fa8-43ee-af19-ed12d2297f3c",
   "metadata": {},
   "outputs": [
    {
     "name": "stdout",
     "output_type": "stream",
     "text": [
      "I'm rich\n"
     ]
    }
   ],
   "source": [
    "# conditional\n",
    "if my_int > 30:\n",
    "    print(\"I'm old\")\n",
    "elif my_float > 65:\n",
    "    print(\"I'm rich\")  \n",
    "else:\n",
    "    print(\"Made it here\")"
   ]
  },
  {
   "cell_type": "code",
   "execution_count": 13,
   "id": "e9ec329b-5f31-4fa5-af2e-15e9bfc4dc50",
   "metadata": {},
   "outputs": [],
   "source": [
    "my_list = [1, 'A', 'Bob', ['Hello','world']]"
   ]
  },
  {
   "cell_type": "code",
   "execution_count": 14,
   "id": "de2b8343-5920-422b-ac44-775100f13901",
   "metadata": {},
   "outputs": [
    {
     "data": {
      "text/plain": [
       "'world'"
      ]
     },
     "execution_count": 14,
     "metadata": {},
     "output_type": "execute_result"
    }
   ],
   "source": [
    "my_list[3][1]"
   ]
  },
  {
   "cell_type": "code",
   "execution_count": 16,
   "id": "6b6ce96c-2d8a-4641-b33e-df5b4808d82c",
   "metadata": {},
   "outputs": [
    {
     "name": "stdout",
     "output_type": "stream",
     "text": [
      "1\n",
      "A\n",
      "Bob\n",
      "['Hello', 'world']\n"
     ]
    }
   ],
   "source": [
    "for i in my_list:\n",
    "    print(i)"
   ]
  },
  {
   "cell_type": "code",
   "execution_count": 18,
   "id": "03a3aaff-164f-43a0-b3c2-d2bc6db82875",
   "metadata": {},
   "outputs": [],
   "source": [
    "# iterables: lists, stings, dictionaries*(special functions), tuples, set\n",
    "\n",
    "trading_pnl = {\"title\":\"Trading log\",\n",
    "               \"03-01-20\":-224,\n",
    "               \"04-01-20\":14,\n",
    "               \"05-01-20\":180,\n",
    "               \"06-01-20\":345,\n",
    "               \"07-01-20\":9081\n",
    "              }"
   ]
  },
  {
   "cell_type": "code",
   "execution_count": 19,
   "id": "cf5b0e16-b08e-4afc-911c-2278e2ef696a",
   "metadata": {},
   "outputs": [
    {
     "data": {
      "text/plain": [
       "180"
      ]
     },
     "execution_count": 19,
     "metadata": {},
     "output_type": "execute_result"
    }
   ],
   "source": [
    "trading_pnl[\"05-01-20\"]"
   ]
  },
  {
   "cell_type": "code",
   "execution_count": 20,
   "id": "6c463f80-a6ac-4fe2-ba62-cbb30c2e0448",
   "metadata": {},
   "outputs": [
    {
     "name": "stdout",
     "output_type": "stream",
     "text": [
      "title\n",
      "03-01-20\n",
      "04-01-20\n",
      "05-01-20\n",
      "06-01-20\n",
      "07-01-20\n"
     ]
    }
   ],
   "source": [
    "for i in trading_pnl:\n",
    "    print(i)"
   ]
  },
  {
   "cell_type": "code",
   "execution_count": 22,
   "id": "2a5dafbf-3072-4f69-b6cf-96100256a7b3",
   "metadata": {},
   "outputs": [
    {
     "name": "stdout",
     "output_type": "stream",
     "text": [
      "Trading log\n",
      "-224\n",
      "14\n",
      "180\n",
      "345\n",
      "9081\n"
     ]
    }
   ],
   "source": [
    "for i in trading_pnl.values():\n",
    "    print(i)"
   ]
  },
  {
   "cell_type": "code",
   "execution_count": 23,
   "id": "6496fef2-f746-4aab-a5e2-d33457ed12b7",
   "metadata": {},
   "outputs": [
    {
     "name": "stdout",
     "output_type": "stream",
     "text": [
      "('title', 'Trading log')\n",
      "('03-01-20', -224)\n",
      "('04-01-20', 14)\n",
      "('05-01-20', 180)\n",
      "('06-01-20', 345)\n",
      "('07-01-20', 9081)\n"
     ]
    }
   ],
   "source": [
    "for i in trading_pnl.items():\n",
    "    print(i)"
   ]
  },
  {
   "cell_type": "code",
   "execution_count": 27,
   "id": "3899b404-8825-45c9-b7f8-81ae9f2af854",
   "metadata": {},
   "outputs": [
    {
     "name": "stdout",
     "output_type": "stream",
     "text": [
      "title ----- Trading log\n",
      "03-01-20 ----- -224\n",
      "04-01-20 ----- 14\n",
      "05-01-20 ----- 180\n",
      "06-01-20 ----- 345\n",
      "07-01-20 ----- 9081\n"
     ]
    }
   ],
   "source": [
    "for k,v in trading_pnl.items():\n",
    "    print(k,'-----',v)"
   ]
  },
  {
   "cell_type": "code",
   "execution_count": 28,
   "id": "4bd9d3ea-3db7-48ee-85f0-e6c0a76a917c",
   "metadata": {},
   "outputs": [],
   "source": [
    "my_tuple = ('hello','world',123)"
   ]
  },
  {
   "cell_type": "code",
   "execution_count": 29,
   "id": "8bdf3d8e-ba1c-4468-a830-efee980eff08",
   "metadata": {},
   "outputs": [
    {
     "data": {
      "text/plain": [
       "('hello', 'world', 123)"
      ]
     },
     "execution_count": 29,
     "metadata": {},
     "output_type": "execute_result"
    }
   ],
   "source": [
    "my_tuple"
   ]
  },
  {
   "cell_type": "code",
   "execution_count": 30,
   "id": "6366284c-6eb8-445d-91ff-16e052cd62aa",
   "metadata": {},
   "outputs": [
    {
     "data": {
      "text/plain": [
       "123"
      ]
     },
     "execution_count": 30,
     "metadata": {},
     "output_type": "execute_result"
    }
   ],
   "source": [
    "my_tuple[2]"
   ]
  },
  {
   "cell_type": "code",
   "execution_count": 31,
   "id": "0d3c1c8a-313d-4e4e-b9e5-7197937a0532",
   "metadata": {},
   "outputs": [],
   "source": [
    "var_a, var_b, var_c = ('hello','world',123)"
   ]
  },
  {
   "cell_type": "code",
   "execution_count": 32,
   "id": "84f83579-71ec-4d59-973c-229393378a46",
   "metadata": {},
   "outputs": [
    {
     "data": {
      "text/plain": [
       "'hello'"
      ]
     },
     "execution_count": 32,
     "metadata": {},
     "output_type": "execute_result"
    }
   ],
   "source": [
    "var_a"
   ]
  },
  {
   "cell_type": "code",
   "execution_count": 1,
   "id": "e0ee14a9-1779-4636-a217-ee0a3a513f09",
   "metadata": {},
   "outputs": [],
   "source": [
    "def stock_traker(argument, parameter):\n",
    "    print(f' {argument} up to {parameter}% on the day')"
   ]
  },
  {
   "cell_type": "code",
   "execution_count": 2,
   "id": "3fc57860-f845-4edc-a3b2-0f7f07e66838",
   "metadata": {},
   "outputs": [
    {
     "name": "stdout",
     "output_type": "stream",
     "text": [
      " MSFT up to 9% on the day\n"
     ]
    }
   ],
   "source": [
    "stock_traker('MSFT',9)"
   ]
  },
  {
   "cell_type": "code",
   "execution_count": null,
   "id": "6141a317-d3db-4ff1-95e0-430997098950",
   "metadata": {},
   "outputs": [],
   "source": []
  }
 ],
 "metadata": {
  "kernelspec": {
   "display_name": "Python 3 (ipykernel)",
   "language": "python",
   "name": "python3"
  },
  "language_info": {
   "codemirror_mode": {
    "name": "ipython",
    "version": 3
   },
   "file_extension": ".py",
   "mimetype": "text/x-python",
   "name": "python",
   "nbconvert_exporter": "python",
   "pygments_lexer": "ipython3",
   "version": "3.7.11"
  }
 },
 "nbformat": 4,
 "nbformat_minor": 5
}
