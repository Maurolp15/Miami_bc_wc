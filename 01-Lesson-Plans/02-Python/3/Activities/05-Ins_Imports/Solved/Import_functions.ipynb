{
 "cells": [
  {
   "cell_type": "code",
   "execution_count": 8,
   "id": "b5cefa33-7a76-4fae-a4a2-eb1e8d90abb7",
   "metadata": {},
   "outputs": [],
   "source": [
    "import functions"
   ]
  },
  {
   "cell_type": "code",
   "execution_count": 9,
   "id": "a57ca945-3e0b-44c0-953a-46f842b47eba",
   "metadata": {},
   "outputs": [
    {
     "name": "stdout",
     "output_type": "stream",
     "text": [
      "hello!\n"
     ]
    }
   ],
   "source": [
    "functions.print_hello()"
   ]
  },
  {
   "cell_type": "code",
   "execution_count": 10,
   "id": "5cf4634d-c983-4c81-b6c6-f4f536c13b92",
   "metadata": {},
   "outputs": [
    {
     "name": "stdout",
     "output_type": "stream",
     "text": [
      "goodbye!\n"
     ]
    }
   ],
   "source": [
    "functions.print_goodbye()"
   ]
  },
  {
   "cell_type": "code",
   "execution_count": 11,
   "id": "f1c7366a-ac4a-40ad-b66b-146d2486be6b",
   "metadata": {},
   "outputs": [],
   "source": [
    "def print_hello():\n",
    "    print('Not the same hello')"
   ]
  },
  {
   "cell_type": "code",
   "execution_count": 12,
   "id": "d86f151f-0740-4d27-a48e-15a0289c3899",
   "metadata": {},
   "outputs": [],
   "source": [
    "from functions import print_hello"
   ]
  },
  {
   "cell_type": "code",
   "execution_count": 13,
   "id": "68a9f603-17d0-407c-8fe5-f1dbb60b7a32",
   "metadata": {},
   "outputs": [
    {
     "name": "stdout",
     "output_type": "stream",
     "text": [
      "hello!\n"
     ]
    }
   ],
   "source": [
    "functions.print_hello()"
   ]
  },
  {
   "cell_type": "raw",
   "id": "63301056-073d-4c9f-b54f-80b9eabbd473",
   "metadata": {},
   "source": [
    "functions.print_goodbye()"
   ]
  },
  {
   "cell_type": "code",
   "execution_count": 21,
   "id": "c723dd64-a3c4-4256-bae1-7432820c3721",
   "metadata": {},
   "outputs": [],
   "source": [
    "import numpy_financial as npf"
   ]
  },
  {
   "cell_type": "code",
   "execution_count": 16,
   "id": "3defcbfb-638f-486a-8a4b-e7527e230a01",
   "metadata": {},
   "outputs": [],
   "source": [
    "interest_rate = .1\n",
    "cash_flows = [-1000, 400, 400, 400, 400]"
   ]
  },
  {
   "cell_type": "code",
   "execution_count": 22,
   "id": "1ce57449-53fd-4c1d-804b-5cd75edfb7fe",
   "metadata": {},
   "outputs": [
    {
     "data": {
      "text/plain": [
       "267.94617853971704"
      ]
     },
     "execution_count": 22,
     "metadata": {},
     "output_type": "execute_result"
    }
   ],
   "source": [
    "npf.npv(interest_rate,cash_flows)"
   ]
  },
  {
   "cell_type": "code",
   "execution_count": 23,
   "id": "04d2a86b-a8ca-49ff-9ef8-34634a6f85db",
   "metadata": {},
   "outputs": [],
   "source": [
    "net_present_value = npf.npv(interest_rate,cash_flows)"
   ]
  },
  {
   "cell_type": "code",
   "execution_count": null,
   "id": "9df086b8-39bb-4d8c-8c45-d39a10df45d1",
   "metadata": {},
   "outputs": [],
   "source": []
  }
 ],
 "metadata": {
  "kernelspec": {
   "display_name": "Python 3 (ipykernel)",
   "language": "python",
   "name": "python3"
  },
  "language_info": {
   "codemirror_mode": {
    "name": "ipython",
    "version": 3
   },
   "file_extension": ".py",
   "mimetype": "text/x-python",
   "name": "python",
   "nbconvert_exporter": "python",
   "pygments_lexer": "ipython3",
   "version": "3.7.11"
  }
 },
 "nbformat": 4,
 "nbformat_minor": 5
}
