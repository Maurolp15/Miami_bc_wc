{
 "cells": [
  {
   "cell_type": "code",
   "execution_count": 3,
   "id": "0720f897-b13e-4766-9a8e-b4c04dc0cd11",
   "metadata": {},
   "outputs": [],
   "source": [
    "from pathlib import Path\n",
    "import csv"
   ]
  },
  {
   "cell_type": "code",
   "execution_count": 4,
   "id": "32ac7626-c6ee-41f3-8f3a-119d44174681",
   "metadata": {},
   "outputs": [],
   "source": [
    "filepath = Path(\"../Resources/accounting.csv\")"
   ]
  },
  {
   "cell_type": "code",
   "execution_count": 14,
   "id": "f40ba027-4741-4dae-af7b-d39b25e05041",
   "metadata": {},
   "outputs": [],
   "source": [
    "salary = []"
   ]
  },
  {
   "cell_type": "code",
   "execution_count": 6,
   "id": "59ef7bb8-1bad-4b16-8ddb-af0c7f3edce3",
   "metadata": {},
   "outputs": [
    {
     "name": "stdout",
     "output_type": "stream",
     "text": [
      "First Name,Last Name,SSN,Salary\n",
      "Tina,Fleming,619-16-7988,75000\n",
      "Erica,Shah,164-51-7615,40000\n",
      "Paula,Ortiz,051-83-3290,120000\n",
      "James,Hendricks,776-83-2884,90000\n",
      "Lauren,King,197-94-2398,60000\n",
      "David,Cowan,252-92-1832,35000\n",
      "Andrew,Burton,296-23-6842,150000\n",
      "Julian,Baker,337-40-7543,75000\n",
      "Scott,Castro,399-46-5595,50000\n",
      "Billy,Rodriguez,014-18-2503,65000\n",
      "Darrell,Leblanc,005-82-7918,40000\n",
      "David,Hammond,561-17-6312,90000\n"
     ]
    }
   ],
   "source": [
    "with open(filepath,\"r\") as file:\n",
    "    text = file.read()\n",
    "    print(text)"
   ]
  },
  {
   "cell_type": "code",
   "execution_count": 7,
   "id": "f04f580c-e023-4077-8b15-52e45fc7b314",
   "metadata": {},
   "outputs": [
    {
     "name": "stdout",
     "output_type": "stream",
     "text": [
      "<class '_io.TextIOWrapper'>\n"
     ]
    }
   ],
   "source": [
    "with open(filepath,\"r\") as file:\n",
    "    print(type(file))"
   ]
  },
  {
   "cell_type": "code",
   "execution_count": 9,
   "id": "44c314e6-f0b1-466d-b950-f9f2a9824a38",
   "metadata": {},
   "outputs": [
    {
     "name": "stdout",
     "output_type": "stream",
     "text": [
      "['First Name', 'Last Name', 'SSN', 'Salary']\n",
      "---------------------------------------------\n",
      "['Tina', 'Fleming', '619-16-7988', '75000']\n",
      "['Erica', 'Shah', '164-51-7615', '40000']\n",
      "['Paula', 'Ortiz', '051-83-3290', '120000']\n",
      "['James', 'Hendricks', '776-83-2884', '90000']\n",
      "['Lauren', 'King', '197-94-2398', '60000']\n",
      "['David', 'Cowan', '252-92-1832', '35000']\n",
      "['Andrew', 'Burton', '296-23-6842', '150000']\n",
      "['Julian', 'Baker', '337-40-7543', '75000']\n",
      "['Scott', 'Castro', '399-46-5595', '50000']\n",
      "['Billy', 'Rodriguez', '014-18-2503', '65000']\n",
      "['Darrell', 'Leblanc', '005-82-7918', '40000']\n",
      "['David', 'Hammond', '561-17-6312', '90000']\n"
     ]
    }
   ],
   "source": [
    "with open(filepath,\"r\") as file:\n",
    "    csvreader = csv.reader(file,delimiter=\",\")\n",
    "    header = next(csvreader)\n",
    "    print(header)\n",
    "    print('---------------------------------------------')\n",
    "    for row in csvreader:\n",
    "        print(row)"
   ]
  },
  {
   "cell_type": "code",
   "execution_count": 16,
   "id": "dbf27b55-049a-49f4-8749-aea4a35f5db3",
   "metadata": {},
   "outputs": [
    {
     "name": "stdout",
     "output_type": "stream",
     "text": [
      "['First Name', 'Last Name', 'SSN', 'Salary']\n",
      "---------------------------\n",
      "75000\n",
      "40000\n",
      "120000\n",
      "90000\n",
      "60000\n",
      "35000\n",
      "150000\n",
      "75000\n",
      "50000\n",
      "65000\n",
      "40000\n",
      "90000\n"
     ]
    }
   ],
   "source": [
    "with open(filepath,\"r\") as file:\n",
    "    csvreader = csv.reader(file,delimiter=\",\")\n",
    "    header = next(csvreader)\n",
    "    print(header)\n",
    "    print('---------------------------')\n",
    "    for row in csvreader:\n",
    "        print(row[3])\n",
    "        salary.append(row[3])"
   ]
  },
  {
   "cell_type": "code",
   "execution_count": 10,
   "id": "bcabd9c4-a61b-42e5-976d-ba620cc07f94",
   "metadata": {},
   "outputs": [
    {
     "name": "stdout",
     "output_type": "stream",
     "text": [
      "['First Name', 'Last Name', 'SSN', 'Salary']\n",
      "------------------------------------------\n",
      "['Tina', 'Fleming', '619-16-7988', '75000']\n",
      "['Erica', 'Shah', '164-51-7615', '40000']\n",
      "['Paula', 'Ortiz', '051-83-3290', '120000']\n",
      "['James', 'Hendricks', '776-83-2884', '90000']\n",
      "['Lauren', 'King', '197-94-2398', '60000']\n",
      "['David', 'Cowan', '252-92-1832', '35000']\n",
      "['Andrew', 'Burton', '296-23-6842', '150000']\n",
      "['Julian', 'Baker', '337-40-7543', '75000']\n",
      "['Scott', 'Castro', '399-46-5595', '50000']\n",
      "['Billy', 'Rodriguez', '014-18-2503', '65000']\n",
      "['Darrell', 'Leblanc', '005-82-7918', '40000']\n",
      "['David', 'Hammond', '561-17-6312', '90000']\n"
     ]
    }
   ],
   "source": [
    "with open(filepath,\"r\") as file:\n",
    "    csvreader = csv.reader(file,delimiter=\",\")\n",
    "    header = next(csvreader)\n",
    "    print(header)\n",
    "    print('------------------------------------------')\n",
    "    for row in csvreader:\n",
    "        print(row)"
   ]
  },
  {
   "cell_type": "code",
   "execution_count": 19,
   "id": "aff74081-d866-41d1-b6f2-d26e7a3abad6",
   "metadata": {},
   "outputs": [
    {
     "name": "stdout",
     "output_type": "stream",
     "text": [
      "['First Name', 'Last Name', 'SSN', 'Salary']\n",
      "------------------------------------------\n",
      "75000\n",
      "40000\n",
      "120000\n",
      "90000\n",
      "60000\n",
      "35000\n",
      "150000\n",
      "75000\n",
      "50000\n",
      "65000\n",
      "40000\n",
      "90000\n"
     ]
    }
   ],
   "source": [
    "with open(filepath,\"r\") as file:\n",
    "    csvreader = csv.reader(file,delimiter=\",\")\n",
    "    header = next(csvreader)\n",
    "    print(header)\n",
    "    print('------------------------------------------')\n",
    "    for row in csvreader:\n",
    "        print(row[3])\n",
    "        salary.append(int(row[3]))"
   ]
  },
  {
   "cell_type": "code",
   "execution_count": 20,
   "id": "5be669d7-449a-4bdb-a098-bfff5af2ef0f",
   "metadata": {},
   "outputs": [
    {
     "name": "stdout",
     "output_type": "stream",
     "text": [
      "['75000', '40000', '120000', '90000', '60000', '35000', '150000', '75000', '50000', '65000', '40000', '90000', '75000', '40000', '120000', '90000', '60000', '35000', '150000', '75000', '50000', '65000', '40000', '90000', 75000, 40000, 120000, 90000, 60000, 35000, 150000, 75000, 50000, 65000, 40000, 90000]\n"
     ]
    }
   ],
   "source": [
    "print(salary)"
   ]
  },
  {
   "cell_type": "code",
   "execution_count": 25,
   "id": "10fffdf7-56df-4c50-b25c-c8d8b1efad20",
   "metadata": {},
   "outputs": [],
   "source": [
    "max_salary = 0\n",
    "min_salary = 0\n",
    "avg_salary = 0\n",
    "total_salary = 0\n",
    "count_salary = 0"
   ]
  },
  {
   "cell_type": "code",
   "execution_count": 32,
   "id": "9afc17ed-035b-4d3f-be0b-3473ff2f0895",
   "metadata": {},
   "outputs": [],
   "source": [
    "# Calculate the max, mean, and average of the list of salaries\n",
    "\n",
    "for salary in salary:\n",
    "    total_salary += int(salary)\n",
    "    count_salary += 1\n",
    "    \n",
    "    if min_salary == 0:\n",
    "        min_salary = salary\n",
    "    elif salary > max_salary:\n",
    "        max_salary = salary\n",
    "    elif salary < min_salary:\n",
    "        min_salary = salary"
   ]
  },
  {
   "cell_type": "code",
   "execution_count": 38,
   "id": "e1022874-8168-43ae-be64-a5655f38efa1",
   "metadata": {},
   "outputs": [
    {
     "name": "stdout",
     "output_type": "stream",
     "text": [
      "7.0\n"
     ]
    }
   ],
   "source": [
    "average_salary = round(total_salary/count_salary,2)\n",
    "print(average_salary)"
   ]
  },
  {
   "cell_type": "code",
   "execution_count": null,
   "id": "312a0965-df04-4a5b-8cac-6a345458b57f",
   "metadata": {},
   "outputs": [],
   "source": []
  }
 ],
 "metadata": {
  "kernelspec": {
   "display_name": "Python 3 (ipykernel)",
   "language": "python",
   "name": "python3"
  },
  "language_info": {
   "codemirror_mode": {
    "name": "ipython",
    "version": 3
   },
   "file_extension": ".py",
   "mimetype": "text/x-python",
   "name": "python",
   "nbconvert_exporter": "python",
   "pygments_lexer": "ipython3",
   "version": "3.7.11"
  }
 },
 "nbformat": 4,
 "nbformat_minor": 5
}
