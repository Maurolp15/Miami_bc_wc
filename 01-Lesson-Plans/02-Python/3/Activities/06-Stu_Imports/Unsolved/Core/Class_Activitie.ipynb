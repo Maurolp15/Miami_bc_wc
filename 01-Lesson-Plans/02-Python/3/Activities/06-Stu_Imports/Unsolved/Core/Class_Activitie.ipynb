{
 "cells": [
  {
   "cell_type": "code",
   "execution_count": 5,
   "id": "1098bf04-6363-4cb9-9445-3b65dbd75859",
   "metadata": {},
   "outputs": [],
   "source": [
    "# -*- coding: utf-8 -*-\n",
    "\"\"\"Student Activity: Financial Analysis using NPV.\n",
    "\n",
    "This script will choose the optimal project scenario to\n",
    "undertake based on max NPV values.\n",
    "\"\"\"\n",
    "\n",
    "# @TODO: Import the NumPy Financial (numpy_financial) library\n",
    "\n",
    "# @TODO: You may need to run `pip install numpy-financial` in your terminal to install the library\n",
    "\n",
    "# Discount Rate\n",
    "discount_rate = .1\n",
    "\n",
    "# Initial Investment, Cash Flow 1, Cash Flow 2, Cash Flow 3, Cash Flow 4\n",
    "cash_flows_conservative = [-1000, 400, 400, 400, 400]\n",
    "cash_flows_neutral = [-1500, 600, 600, 600, 600]\n",
    "cash_flows_aggressive = [-2250, 800, 800, 800, 800]\n",
    "\n",
    "# @TODO: Initialize dictionary to hold NPV return values\n",
    "npv_dict = {}\n",
    "\n",
    "# @TODO: Calculate the NPV for each scenario\n",
    "\n",
    "\n",
    "\n",
    "\n",
    "# @TODO: Manually Choose the project with the highest NPV value"
   ]
  },
  {
   "cell_type": "code",
   "execution_count": 3,
   "id": "3ef3f2c5-7f10-409a-aae9-43fe6eba7083",
   "metadata": {},
   "outputs": [],
   "source": [
    "import numpy_financial as npf"
   ]
  },
  {
   "cell_type": "code",
   "execution_count": 7,
   "id": "311adcf0-225e-4e44-9d3c-81cc8301d634",
   "metadata": {},
   "outputs": [],
   "source": [
    "discount_rate = .1\n",
    "\n",
    "cash_flows_conservative = [-1000, 400, 400, 400, 400]\n",
    "cash_flows_neutral = [-1500, 600, 600, 600, 600]\n",
    "cash_flows_aggressive = [-2250, 800, 800, 800, 800]"
   ]
  },
  {
   "cell_type": "code",
   "execution_count": 20,
   "id": "1e44d2a4-2672-431a-8783-8be48a073d6a",
   "metadata": {},
   "outputs": [
    {
     "name": "stdout",
     "output_type": "stream",
     "text": [
      "{'coonservative': 267.95, 'neutral': 401.92, 'aggresive': 267.95}\n"
     ]
    }
   ],
   "source": [
    "conservative = npf.npv(discount_rate,cash_flows_conservative)\n",
    "neutral = npf.npv(discount_rate,cash_flows_neutral)\n",
    "aggresive = npf.npv(discount_rate,cash_flows_conservative)\n",
    "\n",
    "npv_dict['coonservative'] = round(conservative,2)\n",
    "npv_dict['neutral'] = round(neutral,2)\n",
    "npv_dict['aggresive'] = round(aggresive,2)\n",
    "print(npv_dict)"
   ]
  },
  {
   "cell_type": "code",
   "execution_count": 21,
   "id": "bbf5a126-1797-4407-81c7-2c1c7227a08b",
   "metadata": {},
   "outputs": [
    {
     "name": "stdout",
     "output_type": "stream",
     "text": [
      "coonservative 267.95\n",
      "neutral 401.92\n",
      "aggresive 267.95\n"
     ]
    }
   ],
   "source": [
    "for k,v in npv_dict.items():\n",
    "    print(k,v)"
   ]
  },
  {
   "cell_type": "code",
   "execution_count": 25,
   "id": "678b8005-94cc-44ea-964a-280bb27ac621",
   "metadata": {},
   "outputs": [
    {
     "name": "stdout",
     "output_type": "stream",
     "text": [
      "neutral 401.92\n"
     ]
    }
   ],
   "source": [
    "max_value = 0\n",
    "max_key = ' ' \n",
    "\n",
    "for k,v in npv_dict.items():\n",
    "    current_value = v\n",
    "    if v > max_value:\n",
    "        max_value = v\n",
    "        max_key = k\n",
    "    \n",
    "print(max_key,max_value)"
   ]
  },
  {
   "cell_type": "code",
   "execution_count": null,
   "id": "d757879d-f9f0-49dc-93d3-fd3d4e1768bc",
   "metadata": {},
   "outputs": [],
   "source": []
  }
 ],
 "metadata": {
  "kernelspec": {
   "display_name": "Python 3 (ipykernel)",
   "language": "python",
   "name": "python3"
  },
  "language_info": {
   "codemirror_mode": {
    "name": "ipython",
    "version": 3
   },
   "file_extension": ".py",
   "mimetype": "text/x-python",
   "name": "python",
   "nbconvert_exporter": "python",
   "pygments_lexer": "ipython3",
   "version": "3.7.11"
  }
 },
 "nbformat": 4,
 "nbformat_minor": 5
}
