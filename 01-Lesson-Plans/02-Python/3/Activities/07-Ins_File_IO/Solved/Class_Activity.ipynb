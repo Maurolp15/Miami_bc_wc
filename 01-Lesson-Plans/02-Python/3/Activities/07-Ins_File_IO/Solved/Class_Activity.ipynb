{
 "cells": [
  {
   "cell_type": "code",
   "execution_count": 1,
   "id": "ddcc0a11-3e26-4ece-a1d9-31dc4092aff6",
   "metadata": {},
   "outputs": [],
   "source": [
    "from pathlib import Path"
   ]
  },
  {
   "cell_type": "code",
   "execution_count": 2,
   "id": "8e0d1813-a503-4337-8ec3-1eae6abb5f5b",
   "metadata": {},
   "outputs": [
    {
     "data": {
      "text/plain": [
       "PosixPath('/Users/maurolp15/Desktop/UM_bc_wc/01-Lesson-Plans/02-Python/3/Activities/07-Ins_File_IO/Solved')"
      ]
     },
     "execution_count": 2,
     "metadata": {},
     "output_type": "execute_result"
    }
   ],
   "source": [
    "# cdw = Current Working Directory == Terminate pwd\n",
    "Path.cwd()"
   ]
  },
  {
   "cell_type": "code",
   "execution_count": 2,
   "id": "08842f0f-2538-4fd4-b7b4-1657dbc3e9a7",
   "metadata": {},
   "outputs": [],
   "source": [
    "# relative pathing = ../../01-Ins_refresher (modular)\n",
    "# absolute pathing = C:/Users/steve/Desktop/Class_repo... (from start to finish)"
   ]
  },
  {
   "cell_type": "code",
   "execution_count": 4,
   "id": "4309e63c-f98e-4ff0-a37f-2881f7c50d7a",
   "metadata": {},
   "outputs": [],
   "source": [
    "filepath = Path(\"../Resources/input.txt\")"
   ]
  },
  {
   "cell_type": "code",
   "execution_count": 24,
   "id": "034322c0-6a75-45ff-b664-1e0245e89160",
   "metadata": {},
   "outputs": [
    {
     "name": "stdout",
     "output_type": "stream",
     "text": [
      "<_io.TextIOWrapper name='../Resources/input.txt' mode='r' encoding='UTF-8'>\n",
      "1 List of Best Actors:\n",
      "\n",
      "2 Nicolas Cage\n",
      "\n",
      "3 Betty White\n",
      "\n",
      "4 Gary Busey\n"
     ]
    }
   ],
   "source": [
    "with open(filepath,\"r\") as file: \n",
    "    print(file)\n",
    "    # text = file.read()\n",
    "    # print(text)\n",
    "    \n",
    "    line_number = 1\n",
    "    for line in file:\n",
    "        print(line_number, line)\n",
    "        line_number += 1"
   ]
  },
  {
   "cell_type": "code",
   "execution_count": 16,
   "id": "7eda530b-1908-485b-bffe-ff4af053af14",
   "metadata": {},
   "outputs": [],
   "source": [
    "output_path = Path(\"writing_file.txt\")"
   ]
  },
  {
   "cell_type": "code",
   "execution_count": 22,
   "id": "ff940cdb-c2a1-467c-8b26-0cd7d37d131a",
   "metadata": {},
   "outputs": [],
   "source": [
    "with open(output_path, \"w\") as f:\n",
    "    f.write(\"This is an output file \\n\")\n",
    "    f.write(\"This is the next line\")"
   ]
  },
  {
   "cell_type": "code",
   "execution_count": 23,
   "id": "eba1b563-c9ce-4116-bd15-831136549dcf",
   "metadata": {},
   "outputs": [
    {
     "data": {
      "text/plain": [
       "pathlib.PosixPath"
      ]
     },
     "execution_count": 23,
     "metadata": {},
     "output_type": "execute_result"
    }
   ],
   "source": [
    "type(output_path)"
   ]
  },
  {
   "cell_type": "code",
   "execution_count": null,
   "id": "2d83c522-55c4-4660-888c-60c705e9af7f",
   "metadata": {},
   "outputs": [],
   "source": []
  }
 ],
 "metadata": {
  "kernelspec": {
   "display_name": "Python 3 (ipykernel)",
   "language": "python",
   "name": "python3"
  },
  "language_info": {
   "codemirror_mode": {
    "name": "ipython",
    "version": 3
   },
   "file_extension": ".py",
   "mimetype": "text/x-python",
   "name": "python",
   "nbconvert_exporter": "python",
   "pygments_lexer": "ipython3",
   "version": "3.9.7"
  }
 },
 "nbformat": 4,
 "nbformat_minor": 5
}
