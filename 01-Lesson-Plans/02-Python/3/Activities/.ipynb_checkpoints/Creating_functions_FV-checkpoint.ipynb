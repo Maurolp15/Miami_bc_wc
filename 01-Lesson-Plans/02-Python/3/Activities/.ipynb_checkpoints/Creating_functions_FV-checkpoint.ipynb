{
 "cells": [
  {
   "cell_type": "code",
   "execution_count": 2,
   "id": "7de0b8db-e147-4aa7-9236-bebfb84e1298",
   "metadata": {},
   "outputs": [],
   "source": [
    "# FV=(PV) * [1+(i/n)] ** (n*t)\n",
    "# future_value = present_value * [1+(interest/compound_frequency)] ^ (compound_interes * time)\n",
    "# \n",
    "\n",
    "def future_value(initial_investment,interest_rate,time_in_years,compound_frequency):\n",
    "    \"\"\"\n",
    "    Function to calculate future value of initial investment.\n",
    "    Arguments:\n",
    "    initial_investment - Amount of money to beginning with\n",
    "    interes_rate - The rte at which money will grow for\n",
    "    time_in_years - Number of years money will grow\n",
    "    compound_frequency - The period of compounding\n",
    "    \"\"\"\n",
    "    future = initial_investment * (1 + (interest_rate / compound_frequency)) ** (compound_frequency * time_in_years)\n",
    "    print(f\"Your initial investment of {initial_investment} will be worth {round(future,2)} in {time_in_years} years\")\n",
    "    return round(future,2)"
   ]
  },
  {
   "cell_type": "code",
   "execution_count": 7,
   "id": "b4d4a91c-3e4d-422e-be1c-f8ea93cdaeec",
   "metadata": {},
   "outputs": [
    {
     "name": "stdout",
     "output_type": "stream",
     "text": [
      "Your initial investment of 75000 will be worth 147536.35 in 10 years\n"
     ]
    },
    {
     "data": {
      "text/plain": [
       "147536.35"
      ]
     },
     "execution_count": 7,
     "metadata": {},
     "output_type": "execute_result"
    }
   ],
   "source": [
    "future_value(75000,0.07,10,1)"
   ]
  },
  {
   "cell_type": "code",
   "execution_count": 8,
   "id": "70340d61-bb51-4fed-84d6-6e38d53b6909",
   "metadata": {},
   "outputs": [
    {
     "name": "stdout",
     "output_type": "stream",
     "text": [
      "Your initial investment of 75000 will be worth 147536.35 in 10 years\n"
     ]
    }
   ],
   "source": [
    "future_money = future_value(75000,0.07,10,1)"
   ]
  },
  {
   "cell_type": "code",
   "execution_count": 9,
   "id": "abda6394-58a9-4697-8cbe-0df30429de03",
   "metadata": {},
   "outputs": [
    {
     "name": "stdout",
     "output_type": "stream",
     "text": [
      "147536.35\n"
     ]
    }
   ],
   "source": [
    "print(future_money)"
   ]
  },
  {
   "cell_type": "code",
   "execution_count": 8,
   "id": "c479a944-10f4-4199-b6cd-52ce230a7c00",
   "metadata": {},
   "outputs": [],
   "source": [
    "def square_numbers(x):\n",
    "    sq = x * x\n",
    "    return sq"
   ]
  },
  {
   "cell_type": "code",
   "execution_count": 9,
   "id": "0dbb7e98-73f6-4365-89ba-324d6dfb9ea4",
   "metadata": {},
   "outputs": [],
   "source": [
    "num = square_numbers(5)"
   ]
  },
  {
   "cell_type": "code",
   "execution_count": 10,
   "id": "ad76d5f3-ac75-4bc6-8b3b-f7ae244a8a8a",
   "metadata": {},
   "outputs": [
    {
     "data": {
      "text/plain": [
       "25"
      ]
     },
     "execution_count": 10,
     "metadata": {},
     "output_type": "execute_result"
    }
   ],
   "source": [
    "num"
   ]
  },
  {
   "cell_type": "code",
   "execution_count": null,
   "id": "efb0b151-1c06-4e3a-bb8f-f31c007f8a23",
   "metadata": {},
   "outputs": [],
   "source": []
  }
 ],
 "metadata": {
  "kernelspec": {
   "display_name": "Python 3 (ipykernel)",
   "language": "python",
   "name": "python3"
  },
  "language_info": {
   "codemirror_mode": {
    "name": "ipython",
    "version": 3
   },
   "file_extension": ".py",
   "mimetype": "text/x-python",
   "name": "python",
   "nbconvert_exporter": "python",
   "pygments_lexer": "ipython3",
   "version": "3.7.11"
  }
 },
 "nbformat": 4,
 "nbformat_minor": 5
}
