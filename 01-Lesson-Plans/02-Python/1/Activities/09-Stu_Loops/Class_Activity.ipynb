{
 "cells": [
  {
   "cell_type": "code",
   "execution_count": 3,
   "id": "7e54084e-4f8d-4375-8425-b02bf8c5d4b7",
   "metadata": {},
   "outputs": [],
   "source": [
    "cheer = 'cheer'"
   ]
  },
  {
   "cell_type": "code",
   "execution_count": 4,
   "id": "b6c6b370-8d1a-42a7-ace7-d7c2161d964a",
   "metadata": {},
   "outputs": [
    {
     "name": "stdout",
     "output_type": "stream",
     "text": [
      "c\n",
      "h\n",
      "e\n",
      "e\n",
      "r\n"
     ]
    }
   ],
   "source": [
    "for letter in cheer:\n",
    "    print(letter)"
   ]
  },
  {
   "cell_type": "code",
   "execution_count": 5,
   "id": "33ff3d58-e1b2-4f8b-874f-904604d8cc50",
   "metadata": {},
   "outputs": [
    {
     "name": "stdout",
     "output_type": "stream",
     "text": [
      "Give me a c\n",
      "Give me a h\n",
      "Give me a e\n",
      "Give me a e\n",
      "Give me a r\n"
     ]
    }
   ],
   "source": [
    "for letter in cheer:\n",
    "    print(f'Give me a {letter}')"
   ]
  },
  {
   "cell_type": "code",
   "execution_count": 7,
   "id": "f05cc5bd-e626-40e9-9be2-cfdb8870f70d",
   "metadata": {},
   "outputs": [
    {
     "name": "stdout",
     "output_type": "stream",
     "text": [
      "Give me a c -- c!\n",
      "Give me a h -- h!\n",
      "Give me a e -- e!\n",
      "Give me a e -- e!\n",
      "Give me a r -- r!\n"
     ]
    }
   ],
   "source": [
    "for letter in cheer:\n",
    "    print(f'Give me a {letter} -- {letter}!')"
   ]
  },
  {
   "cell_type": "code",
   "execution_count": 9,
   "id": "ff578ee5-3ba3-46b0-b168-a4115fb6570b",
   "metadata": {},
   "outputs": [
    {
     "name": "stdout",
     "output_type": "stream",
     "text": [
      "Give me a c -- c!\n",
      "Give me a h -- h!\n",
      "Give me a e -- e!\n",
      "Give me a e -- e!\n",
      "Give me a r -- r!\n",
      "What's that spell?\n",
      "CHEER !\n"
     ]
    }
   ],
   "source": [
    "for letter in cheer:\n",
    "    print(f'Give me a {letter} -- {letter}!')\n",
    "print(\"What's that spell?\")\n",
    "print(cheer.upper(),'!')"
   ]
  },
  {
   "cell_type": "code",
   "execution_count": null,
   "id": "233d012c-60e0-4e65-bc49-865c7e1346b1",
   "metadata": {},
   "outputs": [],
   "source": []
  }
 ],
 "metadata": {
  "kernelspec": {
   "display_name": "Python 3 (ipykernel)",
   "language": "python",
   "name": "python3"
  },
  "language_info": {
   "codemirror_mode": {
    "name": "ipython",
    "version": 3
   },
   "file_extension": ".py",
   "mimetype": "text/x-python",
   "name": "python",
   "nbconvert_exporter": "python",
   "pygments_lexer": "ipython3",
   "version": "3.7.11"
  }
 },
 "nbformat": 4,
 "nbformat_minor": 5
}
