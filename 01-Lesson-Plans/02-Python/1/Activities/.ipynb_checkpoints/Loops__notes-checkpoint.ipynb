{
 "cells": [
  {
   "cell_type": "code",
   "execution_count": 1,
   "id": "9e2a3182-880e-4dd4-844a-46abe2152df7",
   "metadata": {},
   "outputs": [],
   "source": [
    "# loops\n",
    "# [0,1,2,3,4,5,6,7,8,9]\n",
    "# loop through anything that is iterable\n",
    "# lists, some objects, parts of a dictionary, strigs, tuples, sets\n",
    "# while loops will run until the conditional is no longer true"
   ]
  },
  {
   "cell_type": "code",
   "execution_count": 4,
   "id": "5aef195e-60ea-4392-a2de-b013bd4bd8c0",
   "metadata": {},
   "outputs": [
    {
     "name": "stdout",
     "output_type": "stream",
     "text": [
      "0\n",
      "1\n",
      "2\n",
      "3\n",
      "4\n",
      "5\n",
      "6\n",
      "7\n",
      "8\n"
     ]
    }
   ],
   "source": [
    "for i in range(0,9):\n",
    "    print(i)"
   ]
  },
  {
   "cell_type": "code",
   "execution_count": 8,
   "id": "4b92332e-fa46-4034-a106-96dbe24fcac4",
   "metadata": {},
   "outputs": [
    {
     "name": "stdout",
     "output_type": "stream",
     "text": [
      "h\n",
      "e\n",
      "l\n",
      "l\n",
      "o\n",
      " \n",
      "w\n",
      "o\n",
      "r\n",
      "l\n",
      "d\n"
     ]
    }
   ],
   "source": [
    "for letter in 'hello world':\n",
    "    print(letter)"
   ]
  },
  {
   "cell_type": "code",
   "execution_count": 14,
   "id": "cec8b543-eee6-44ff-9f6d-36cfaf781b5f",
   "metadata": {},
   "outputs": [
    {
     "name": "stdout",
     "output_type": "stream",
     "text": [
      "0\n",
      "3\n",
      "6\n",
      "9\n",
      "12\n",
      "15\n",
      "18\n",
      "21\n",
      "24\n",
      "27\n",
      "30\n"
     ]
    }
   ],
   "source": [
    "# list all multiples of 3 until I hit 30\n",
    "for x in range(0,31):\n",
    "    if x * 3 <= 30:\n",
    "        print(x * 3)"
   ]
  },
  {
   "cell_type": "code",
   "execution_count": 15,
   "id": "1bc57dba-87a1-47ac-bc4b-00dbdf08be23",
   "metadata": {},
   "outputs": [
    {
     "name": "stdout",
     "output_type": "stream",
     "text": [
      "5\n",
      "6\n",
      "7\n",
      "8\n",
      "9\n"
     ]
    }
   ],
   "source": [
    "x = 5\n",
    "while x < 10:\n",
    "    print(x)\n",
    "    x = x + 1"
   ]
  },
  {
   "cell_type": "code",
   "execution_count": null,
   "id": "9e274e10-1092-4c3e-aed9-016ef95d42a2",
   "metadata": {},
   "outputs": [],
   "source": []
  }
 ],
 "metadata": {
  "kernelspec": {
   "display_name": "Python 3 (ipykernel)",
   "language": "python",
   "name": "python3"
  },
  "language_info": {
   "codemirror_mode": {
    "name": "ipython",
    "version": 3
   },
   "file_extension": ".py",
   "mimetype": "text/x-python",
   "name": "python",
   "nbconvert_exporter": "python",
   "pygments_lexer": "ipython3",
   "version": "3.7.11"
  }
 },
 "nbformat": 4,
 "nbformat_minor": 5
}
