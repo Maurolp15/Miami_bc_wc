{
 "cells": [
  {
   "cell_type": "code",
   "execution_count": 2,
   "id": "32b52216-ac49-42de-83d7-b8387985c780",
   "metadata": {},
   "outputs": [
    {
     "name": "stdout",
     "output_type": "stream",
     "text": [
      "hello world\n"
     ]
    }
   ],
   "source": [
    "print('hello world')"
   ]
  },
  {
   "cell_type": "code",
   "execution_count": 3,
   "id": "6f70e9da-8645-452e-a5b3-3bc14a11893f",
   "metadata": {},
   "outputs": [
    {
     "data": {
      "text/plain": [
       "10"
      ]
     },
     "execution_count": 3,
     "metadata": {},
     "output_type": "execute_result"
    }
   ],
   "source": [
    "5 + 5"
   ]
  },
  {
   "cell_type": "code",
   "execution_count": 1,
   "id": "d7fa6e9f-8b39-410c-9e63-6392ee6eb52c",
   "metadata": {},
   "outputs": [],
   "source": [
    "# hashtag is a note\n",
    "# pythion is a dynamically typed language\n",
    "# variables are reserve allocations that hold a value\n",
    "# 5 is a number (integer = whole number)\n",
    "# 'Hello world' is a string value\n",
    "# decimal number is a float (3.41)\n",
    "# True or False = boolen / bool (capital T or F)\n",
    "# ' / \" will be the same on python - it will be different on specific situations\n",
    "# can not have a space in a varible or start with a number\n",
    "# add +\n",
    "# subtract -\n",
    "# multiply *\n",
    "# divide /\n",
    "# to the power **\n",
    "# f = format"
   ]
  },
  {
   "cell_type": "markdown",
   "id": "a2b86801-d1c7-469d-8167-34d3d3e12384",
   "metadata": {
    "jp-MarkdownHeadingCollapsed": true,
    "tags": []
   },
   "source": [
    "my_first_val = \"Oscar\""
   ]
  },
  {
   "cell_type": "code",
   "execution_count": 6,
   "id": "1dda3d79-3140-4ff6-af40-8f34ef814074",
   "metadata": {},
   "outputs": [
    {
     "name": "stdout",
     "output_type": "stream",
     "text": [
      "Oscar\n"
     ]
    }
   ],
   "source": [
    "print (my_first_val)"
   ]
  },
  {
   "cell_type": "code",
   "execution_count": 10,
   "id": "68a6618b-c329-47df-aada-ae0a183ad242",
   "metadata": {},
   "outputs": [
    {
     "data": {
      "text/plain": [
       "str"
      ]
     },
     "execution_count": 10,
     "metadata": {},
     "output_type": "execute_result"
    }
   ],
   "source": [
    "type(my_first_val)"
   ]
  },
  {
   "cell_type": "code",
   "execution_count": 11,
   "id": "2ba78613-be6d-42d5-b999-1b73cb975bf1",
   "metadata": {},
   "outputs": [],
   "source": [
    "my_first_val = 3.1"
   ]
  },
  {
   "cell_type": "code",
   "execution_count": 12,
   "id": "f2eb2031-5bd7-4478-9595-ee694b252cc1",
   "metadata": {},
   "outputs": [
    {
     "data": {
      "text/plain": [
       "float"
      ]
     },
     "execution_count": 12,
     "metadata": {},
     "output_type": "execute_result"
    }
   ],
   "source": [
    "type(my_first_val)"
   ]
  },
  {
   "cell_type": "code",
   "execution_count": 13,
   "id": "9811b377-74c1-4bbc-99b9-f1e8c4098fcf",
   "metadata": {},
   "outputs": [],
   "source": [
    "pi = 3.1837563738384958585844837347"
   ]
  },
  {
   "cell_type": "code",
   "execution_count": 14,
   "id": "9f6b076f-d89b-4086-8299-ce22f828af45",
   "metadata": {},
   "outputs": [
    {
     "name": "stdout",
     "output_type": "stream",
     "text": [
      "3.183756373838496\n"
     ]
    }
   ],
   "source": [
    "print(pi)"
   ]
  },
  {
   "cell_type": "code",
   "execution_count": 16,
   "id": "6848b968-5d1a-4de2-89ca-330f3b68b369",
   "metadata": {},
   "outputs": [],
   "source": [
    "title = 'Frankfurter'\n",
    "years = 23\n",
    "horuley_wage = 65.4\n",
    "espert_status = True"
   ]
  },
  {
   "cell_type": "code",
   "execution_count": 19,
   "id": "e70b69ec-d02c-42e4-8532-a8f8a7f557e7",
   "metadata": {},
   "outputs": [],
   "source": [
    "total_miles = 257\n",
    "gallons_gas = 7.2\n",
    "miles_per_gallon = total_miles / gallons_gas"
   ]
  },
  {
   "cell_type": "code",
   "execution_count": 20,
   "id": "b92a46e1-e2aa-46e4-a24c-3b1b50adacef",
   "metadata": {},
   "outputs": [
    {
     "name": "stdout",
     "output_type": "stream",
     "text": [
      "35.69444444444444\n"
     ]
    }
   ],
   "source": [
    "print(miles_per_gallon)"
   ]
  },
  {
   "cell_type": "code",
   "execution_count": 29,
   "id": "526d8a75-961a-4d3b-bfe2-fcd5cd1ae354",
   "metadata": {},
   "outputs": [
    {
     "name": "stdout",
     "output_type": "stream",
     "text": [
      "My car gets 35.69444444444444 miles per gallon\n"
     ]
    }
   ],
   "source": [
    "print(f\"My car gets {miles_per_gallon} miles per gallon\")"
   ]
  },
  {
   "cell_type": "code",
   "execution_count": null,
   "id": "7620ec43-4d56-4f8b-9335-5d01755975a1",
   "metadata": {},
   "outputs": [],
   "source": []
  }
 ],
 "metadata": {
  "kernelspec": {
   "display_name": "Python 3 (ipykernel)",
   "language": "python",
   "name": "python3"
  },
  "language_info": {
   "codemirror_mode": {
    "name": "ipython",
    "version": 3
   },
   "file_extension": ".py",
   "mimetype": "text/x-python",
   "name": "python",
   "nbconvert_exporter": "python",
   "pygments_lexer": "ipython3",
   "version": "3.7.11"
  }
 },
 "nbformat": 4,
 "nbformat_minor": 5
}
