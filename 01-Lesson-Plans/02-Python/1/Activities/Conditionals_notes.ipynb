{
 "cells": [
  {
   "cell_type": "code",
   "execution_count": 16,
   "id": "a0aa3c94-4936-43a4-9fd8-914241a6ba65",
   "metadata": {},
   "outputs": [],
   "source": [
    "# conditionals\n",
    "# if then statement (key word)\n",
    "# python is an indentation language\n",
    "# elif = else if\n",
    "# = -> assigment\n",
    "# == -> comparison\n",
    "# and is an inclusive and"
   ]
  },
  {
   "cell_type": "code",
   "execution_count": 3,
   "id": "34ed2571-1789-4059-9991-7abe38f69435",
   "metadata": {},
   "outputs": [
    {
     "name": "stdout",
     "output_type": "stream",
     "text": [
      "This is true\n"
     ]
    }
   ],
   "source": [
    "if 5 > 3:\n",
    "    print('This is true')"
   ]
  },
  {
   "cell_type": "code",
   "execution_count": 7,
   "id": "0bbff01b-b42b-4774-8bfe-cacdd2b47847",
   "metadata": {},
   "outputs": [
    {
     "name": "stdout",
     "output_type": "stream",
     "text": [
      "This is four\n"
     ]
    }
   ],
   "source": [
    "if 1 > 3:\n",
    "    print('This is true')\n",
    "elif 4 == 4.0:\n",
    "    print('This is four')\n",
    "elif 3 > 7:\n",
    "    print('Three > seven')\n",
    "elif 1 < 2:\n",
    "    print('One less than two')"
   ]
  },
  {
   "cell_type": "code",
   "execution_count": 8,
   "id": "d72c08d4-fb93-4296-884f-52af0a366cdf",
   "metadata": {},
   "outputs": [
    {
     "name": "stdout",
     "output_type": "stream",
     "text": [
      "One less than two\n"
     ]
    }
   ],
   "source": [
    "if 1 > 3:\n",
    "    print('This is true')\n",
    "elif 4 == 5.0:\n",
    "    print('This is four')\n",
    "elif 3 > 7:\n",
    "    print('Three > seven')\n",
    "elif 1 < 2:\n",
    "    print('One less than two')"
   ]
  },
  {
   "cell_type": "code",
   "execution_count": 10,
   "id": "88e25620-f66c-4de8-88a0-49693ccc9901",
   "metadata": {},
   "outputs": [
    {
     "name": "stdout",
     "output_type": "stream",
     "text": [
      "Nothing is true\n"
     ]
    }
   ],
   "source": [
    "if 1 > 3:\n",
    "    print('This is true')\n",
    "elif 4 == 5.0:\n",
    "    print('This is four')\n",
    "elif 3 > 7:\n",
    "    print('Three > seven')\n",
    "elif 1 < 0:\n",
    "    print('One less than two')\n",
    "else:\n",
    "    print('Nothing is true')"
   ]
  },
  {
   "cell_type": "code",
   "execution_count": 4,
   "id": "9319bdb8-9123-415e-a256-5c64d27159e0",
   "metadata": {},
   "outputs": [],
   "source": [
    "x = 5\n",
    "y = 10"
   ]
  },
  {
   "cell_type": "code",
   "execution_count": 19,
   "id": "da1b7d49-cb40-4390-8dd0-679d13b6afde",
   "metadata": {},
   "outputs": [
    {
     "name": "stdout",
     "output_type": "stream",
     "text": [
      "both x and y are greater than 0\n"
     ]
    }
   ],
   "source": [
    "if x > 0 and y > 0:\n",
    "    print('both x and y are greater than 0')"
   ]
  },
  {
   "cell_type": "code",
   "execution_count": 5,
   "id": "0e2ce46b-84f0-483d-a86c-72212754c93b",
   "metadata": {},
   "outputs": [],
   "source": [
    "if x > 0 and y < 0:\n",
    "    print('both x and y are grater than 0')"
   ]
  },
  {
   "cell_type": "code",
   "execution_count": 21,
   "id": "7189745b-3890-464c-aa6d-683b7222f0c7",
   "metadata": {},
   "outputs": [
    {
     "name": "stdout",
     "output_type": "stream",
     "text": [
      "both x and y are grater than 0\n"
     ]
    }
   ],
   "source": [
    "if x > 0 or y > 0:\n",
    "    print('both x and y are grater than 0')"
   ]
  },
  {
   "cell_type": "code",
   "execution_count": 22,
   "id": "52848e3f-bc50-4c63-88f0-52bae0037a6d",
   "metadata": {},
   "outputs": [
    {
     "name": "stdout",
     "output_type": "stream",
     "text": [
      "statement 1\n"
     ]
    }
   ],
   "source": [
    "if x < 5 or (x  > 5 or y > 5):\n",
    "    print('statement 1')\n",
    "else:\n",
    "    print('statement 2')"
   ]
  },
  {
   "cell_type": "code",
   "execution_count": 25,
   "id": "e0668ceb-5a27-4872-a2a0-c883d100ea5b",
   "metadata": {},
   "outputs": [
    {
     "name": "stdout",
     "output_type": "stream",
     "text": [
      "statement 3\n"
     ]
    }
   ],
   "source": [
    "if (x < 1 and y > 0) and (x==5 and y==10):\n",
    "    print('statement 1')\n",
    "elif (y > 10 or x > 5) or (x < 3 and y == -1):\n",
    "    print('statement 2')\n",
    "elif (x > 4 and y < 100) and (y == 10 or x < 1):\n",
    "      print('statement 3')\n",
    "else:\n",
    "      print('None is true')"
   ]
  },
  {
   "cell_type": "code",
   "execution_count": null,
   "id": "5d630321-3247-4110-b580-d07223b37603",
   "metadata": {},
   "outputs": [],
   "source": []
  }
 ],
 "metadata": {
  "kernelspec": {
   "display_name": "Python 3 (ipykernel)",
   "language": "python",
   "name": "python3"
  },
  "language_info": {
   "codemirror_mode": {
    "name": "ipython",
    "version": 3
   },
   "file_extension": ".py",
   "mimetype": "text/x-python",
   "name": "python",
   "nbconvert_exporter": "python",
   "pygments_lexer": "ipython3",
   "version": "3.7.11"
  }
 },
 "nbformat": 4,
 "nbformat_minor": 5
}
