{
 "cells": [
  {
   "cell_type": "code",
   "execution_count": 2,
   "id": "99ce13b7-fbb4-4a12-af1b-6d5b58dde433",
   "metadata": {},
   "outputs": [],
   "source": [
    "#              0             1         2\n",
    "cheer = [\"Cheer Loudly\", \"Fintech\", \"Money\"]"
   ]
  },
  {
   "cell_type": "code",
   "execution_count": 3,
   "id": "9aa4a866-c746-4c96-bf21-a6788ce0d166",
   "metadata": {},
   "outputs": [
    {
     "data": {
      "text/plain": [
       "list"
      ]
     },
     "execution_count": 3,
     "metadata": {},
     "output_type": "execute_result"
    }
   ],
   "source": [
    "type(cheer)"
   ]
  },
  {
   "cell_type": "code",
   "execution_count": 4,
   "id": "32264473-6bcc-4283-ba2d-d83ba0ac8d27",
   "metadata": {},
   "outputs": [
    {
     "name": "stdout",
     "output_type": "stream",
     "text": [
      "['Cheer Loudly', 'Fintech', 'Money']\n"
     ]
    }
   ],
   "source": [
    "print(cheer)"
   ]
  },
  {
   "cell_type": "code",
   "execution_count": 5,
   "id": "a57d038b-874f-4a88-9796-db4c445db39b",
   "metadata": {},
   "outputs": [
    {
     "data": {
      "text/plain": [
       "'Cheer Loudly'"
      ]
     },
     "execution_count": 5,
     "metadata": {},
     "output_type": "execute_result"
    }
   ],
   "source": [
    "# index based\n",
    "cheer[0]"
   ]
  },
  {
   "cell_type": "code",
   "execution_count": 6,
   "id": "0805a14e-c886-4c87-ba5f-d4d18ed5c171",
   "metadata": {},
   "outputs": [
    {
     "data": {
      "text/plain": [
       "'Fintech'"
      ]
     },
     "execution_count": 6,
     "metadata": {},
     "output_type": "execute_result"
    }
   ],
   "source": [
    "cheer[1]"
   ]
  },
  {
   "cell_type": "code",
   "execution_count": 7,
   "id": "12d17388-3d06-4786-b542-6ebbe61f5688",
   "metadata": {},
   "outputs": [
    {
     "name": "stdout",
     "output_type": "stream",
     "text": [
      "Cheer Loudly\n",
      "Fintech\n",
      "Money\n"
     ]
    }
   ],
   "source": [
    "# list are iterable - you can loop \n",
    "for i in cheer:\n",
    "    print(i)"
   ]
  },
  {
   "cell_type": "code",
   "execution_count": 11,
   "id": "82dd56ef-9be1-4889-a31e-a9fe834267b9",
   "metadata": {},
   "outputs": [
    {
     "name": "stdout",
     "output_type": "stream",
     "text": [
      "C\n",
      "h\n",
      "e\n",
      "e\n",
      "r\n",
      " \n",
      "L\n",
      "o\n",
      "u\n",
      "d\n",
      "l\n",
      "y\n"
     ]
    }
   ],
   "source": [
    "for i in cheer[0]:\n",
    "    print(i)"
   ]
  },
  {
   "cell_type": "code",
   "execution_count": 12,
   "id": "217b4e5f-7f24-4ba3-a3d4-c2ad8cc139fa",
   "metadata": {},
   "outputs": [
    {
     "data": {
      "text/plain": [
       "str"
      ]
     },
     "execution_count": 12,
     "metadata": {},
     "output_type": "execute_result"
    }
   ],
   "source": [
    "type(cheer[0])"
   ]
  },
  {
   "cell_type": "code",
   "execution_count": 16,
   "id": "03b90dd9-2485-4a06-9db8-8aca40059c61",
   "metadata": {},
   "outputs": [
    {
     "ename": "SyntaxError",
     "evalue": "invalid syntax (2812643294.py, line 1)",
     "output_type": "error",
     "traceback": [
      "\u001b[0;36m  File \u001b[0;32m\"/var/folders/4c/n0d3gkhn0rq607n3sdpf7n000000gn/T/ipykernel_26238/2812643294.py\"\u001b[0;36m, line \u001b[0;32m1\u001b[0m\n\u001b[0;31m    my_new_list = ['1' ,'2', '3', 'Hello', ['A', 'B', 'C'], ['Hurricanes', 'Wolverine']]:\u001b[0m\n\u001b[0m                                                                                        ^\u001b[0m\n\u001b[0;31mSyntaxError\u001b[0m\u001b[0;31m:\u001b[0m invalid syntax\n"
     ]
    }
   ],
   "source": [
    "my_new_list = ['1' ,'2', '3', 'Hello', ['A', 'B', 'C'], ['Hurricanes', 'Wolverine']]:"
   ]
  },
  {
   "cell_type": "code",
   "execution_count": null,
   "id": "f8ee8582-82b9-44cb-a0b9-00647fde305b",
   "metadata": {},
   "outputs": [],
   "source": []
  }
 ],
 "metadata": {
  "kernelspec": {
   "display_name": "Python 3 (ipykernel)",
   "language": "python",
   "name": "python3"
  },
  "language_info": {
   "codemirror_mode": {
    "name": "ipython",
    "version": 3
   },
   "file_extension": ".py",
   "mimetype": "text/x-python",
   "name": "python",
   "nbconvert_exporter": "python",
   "pygments_lexer": "ipython3",
   "version": "3.9.7"
  }
 },
 "nbformat": 4,
 "nbformat_minor": 5
}
