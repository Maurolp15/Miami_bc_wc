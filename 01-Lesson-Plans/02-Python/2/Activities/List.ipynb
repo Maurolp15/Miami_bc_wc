{
 "cells": [
  {
   "cell_type": "code",
   "execution_count": 1,
   "id": "99ce13b7-fbb4-4a12-af1b-6d5b58dde433",
   "metadata": {},
   "outputs": [],
   "source": [
    "#              0             1         2\n",
    "cheer = [\"Cheer Loudly\", \"Fintech\", \"Money\", 20000]"
   ]
  },
  {
   "cell_type": "code",
   "execution_count": 3,
   "id": "9aa4a866-c746-4c96-bf21-a6788ce0d166",
   "metadata": {},
   "outputs": [
    {
     "data": {
      "text/plain": [
       "list"
      ]
     },
     "execution_count": 3,
     "metadata": {},
     "output_type": "execute_result"
    }
   ],
   "source": [
    "type(cheer)"
   ]
  },
  {
   "cell_type": "code",
   "execution_count": 4,
   "id": "32264473-6bcc-4283-ba2d-d83ba0ac8d27",
   "metadata": {},
   "outputs": [
    {
     "name": "stdout",
     "output_type": "stream",
     "text": [
      "['Cheer Loudly', 'Fintech', 'Money']\n"
     ]
    }
   ],
   "source": [
    "print(cheer)"
   ]
  },
  {
   "cell_type": "code",
   "execution_count": 5,
   "id": "a57d038b-874f-4a88-9796-db4c445db39b",
   "metadata": {},
   "outputs": [
    {
     "data": {
      "text/plain": [
       "'Cheer Loudly'"
      ]
     },
     "execution_count": 5,
     "metadata": {},
     "output_type": "execute_result"
    }
   ],
   "source": [
    "# index based\n",
    "cheer[0]"
   ]
  },
  {
   "cell_type": "code",
   "execution_count": 6,
   "id": "0805a14e-c886-4c87-ba5f-d4d18ed5c171",
   "metadata": {},
   "outputs": [
    {
     "data": {
      "text/plain": [
       "'Fintech'"
      ]
     },
     "execution_count": 6,
     "metadata": {},
     "output_type": "execute_result"
    }
   ],
   "source": [
    "cheer[1]"
   ]
  },
  {
   "cell_type": "code",
   "execution_count": 2,
   "id": "12d17388-3d06-4786-b542-6ebbe61f5688",
   "metadata": {},
   "outputs": [
    {
     "name": "stdout",
     "output_type": "stream",
     "text": [
      "Cheer Loudly\n",
      "Fintech\n",
      "Money\n",
      "20000\n"
     ]
    }
   ],
   "source": [
    "# list are iterable - you can loop \n",
    "for i in cheer:\n",
    "    print(i)"
   ]
  },
  {
   "cell_type": "code",
   "execution_count": 11,
   "id": "82dd56ef-9be1-4889-a31e-a9fe834267b9",
   "metadata": {},
   "outputs": [
    {
     "name": "stdout",
     "output_type": "stream",
     "text": [
      "C\n",
      "h\n",
      "e\n",
      "e\n",
      "r\n",
      " \n",
      "L\n",
      "o\n",
      "u\n",
      "d\n",
      "l\n",
      "y\n"
     ]
    }
   ],
   "source": [
    "for i in cheer[0]:\n",
    "    print(i)"
   ]
  },
  {
   "cell_type": "code",
   "execution_count": 12,
   "id": "217b4e5f-7f24-4ba3-a3d4-c2ad8cc139fa",
   "metadata": {},
   "outputs": [
    {
     "data": {
      "text/plain": [
       "str"
      ]
     },
     "execution_count": 12,
     "metadata": {},
     "output_type": "execute_result"
    }
   ],
   "source": [
    "type(cheer[0])"
   ]
  },
  {
   "cell_type": "code",
   "execution_count": 9,
   "id": "03b90dd9-2485-4a06-9db8-8aca40059c61",
   "metadata": {},
   "outputs": [],
   "source": [
    "pokemon = ['Pikachu' ,'Charizard', 'Bulbasaur','Gyarados','Dragonite','Onyx']"
   ]
  },
  {
   "cell_type": "code",
   "execution_count": 5,
   "id": "462c5100-3284-4acd-8990-95099441c65c",
   "metadata": {},
   "outputs": [
    {
     "name": "stdout",
     "output_type": "stream",
     "text": [
      "Dragonite\n"
     ]
    }
   ],
   "source": [
    "print(pokemon[4])"
   ]
  },
  {
   "cell_type": "code",
   "execution_count": 10,
   "id": "394e511e-a8fe-4168-9ec5-13e166ca3419",
   "metadata": {},
   "outputs": [
    {
     "name": "stdout",
     "output_type": "stream",
     "text": [
      "['Pikachu', 'Charizard', 'Bulbasaur', 'Gyarados', 'Dragonite', 'Onyx']\n"
     ]
    }
   ],
   "source": [
    "print(pokemon[:])"
   ]
  },
  {
   "cell_type": "code",
   "execution_count": 11,
   "id": "c5a25c40-7f7a-4af5-85bd-484cd3c7dc68",
   "metadata": {},
   "outputs": [
    {
     "name": "stdout",
     "output_type": "stream",
     "text": [
      "['Pikachu', 'Charizard', 'Bulbasaur', 'Gyarados']\n"
     ]
    }
   ],
   "source": [
    "print(pokemon[0:4])"
   ]
  },
  {
   "cell_type": "code",
   "execution_count": 12,
   "id": "31a3de8c-763e-450e-b8a3-72ac9b2099b0",
   "metadata": {},
   "outputs": [
    {
     "name": "stdout",
     "output_type": "stream",
     "text": [
      "['Gyarados', 'Dragonite', 'Onyx']\n"
     ]
    }
   ],
   "source": [
    "print(pokemon[3:6])"
   ]
  },
  {
   "cell_type": "code",
   "execution_count": 43,
   "id": "a34c92b5-149c-49bc-a5b7-615f8414311a",
   "metadata": {},
   "outputs": [
    {
     "name": "stdout",
     "output_type": "stream",
     "text": [
      "Pikachu\n",
      "Charizard\n",
      "Bulba\n",
      "Gyradas\n",
      "Draganite\n",
      "Onyx\n"
     ]
    }
   ],
   "source": [
    "for p in pokemon:\n",
    "    print(p)"
   ]
  },
  {
   "cell_type": "code",
   "execution_count": 22,
   "id": "92a6a59d-8ad2-4f2d-a0da-c9e27567f6d6",
   "metadata": {},
   "outputs": [
    {
     "data": {
      "text/plain": [
       "6"
      ]
     },
     "execution_count": 22,
     "metadata": {},
     "output_type": "execute_result"
    }
   ],
   "source": [
    "len(pokemon)"
   ]
  },
  {
   "cell_type": "code",
   "execution_count": 27,
   "id": "0ccfd99c-7fee-4b61-ad62-3f2692f2fdd9",
   "metadata": {},
   "outputs": [
    {
     "name": "stdout",
     "output_type": "stream",
     "text": [
      "Draganite\n"
     ]
    }
   ],
   "source": [
    "for p in range(len(pokemon)):\n",
    "    if pokemon[p] == 'Gyradas':\n",
    "        print(pokemon[p+1])"
   ]
  },
  {
   "cell_type": "code",
   "execution_count": 44,
   "id": "a13a831a-c8e1-4782-a8d4-d11bf6f46213",
   "metadata": {},
   "outputs": [
    {
     "name": "stdout",
     "output_type": "stream",
     "text": [
      "['Pikachu']\n"
     ]
    }
   ],
   "source": [
    "print(pokemon[0:3:6])"
   ]
  },
  {
   "cell_type": "code",
   "execution_count": 29,
   "id": "0b4707e3-6aef-44dc-ab59-67f5858b1a87",
   "metadata": {},
   "outputs": [
    {
     "name": "stdout",
     "output_type": "stream",
     "text": [
      "Onyx\n"
     ]
    }
   ],
   "source": [
    "print(pokemon[-1])"
   ]
  },
  {
   "cell_type": "code",
   "execution_count": 30,
   "id": "f2348ea7-548f-4cf7-863c-bf2410ec002a",
   "metadata": {},
   "outputs": [
    {
     "name": "stdout",
     "output_type": "stream",
     "text": [
      "5\n"
     ]
    }
   ],
   "source": [
    "print(pokemon.index('Draganite')+1)"
   ]
  },
  {
   "cell_type": "code",
   "execution_count": 33,
   "id": "fff23324-c287-49d8-855b-c9a3c5f5f447",
   "metadata": {},
   "outputs": [
    {
     "name": "stdout",
     "output_type": "stream",
     "text": [
      "5\n"
     ]
    }
   ],
   "source": [
    "print(pokemon.index('Draganite')+1)"
   ]
  },
  {
   "cell_type": "code",
   "execution_count": 32,
   "id": "71e0fc6a-3bd0-4676-b3b1-10d722b20622",
   "metadata": {},
   "outputs": [
    {
     "data": {
      "text/plain": [
       "'pikachu'"
      ]
     },
     "execution_count": 32,
     "metadata": {},
     "output_type": "execute_result"
    }
   ],
   "source": [
    "pokemon[0]"
   ]
  },
  {
   "cell_type": "code",
   "execution_count": 34,
   "id": "4ba9a380-a87a-428d-ad41-3952cb37bb74",
   "metadata": {},
   "outputs": [
    {
     "data": {
      "text/plain": [
       "'Draganite'"
      ]
     },
     "execution_count": 34,
     "metadata": {},
     "output_type": "execute_result"
    }
   ],
   "source": [
    "pokemon[pokemon.index('Draganite')]"
   ]
  },
  {
   "cell_type": "code",
   "execution_count": 37,
   "id": "e5419d97-9479-4d51-a6f8-3f4737de1d6d",
   "metadata": {},
   "outputs": [],
   "source": [
    "pokemon.append('Magikarp')"
   ]
  },
  {
   "cell_type": "code",
   "execution_count": 38,
   "id": "14ae3841-8a48-4f85-9cb7-f79352b71c30",
   "metadata": {},
   "outputs": [
    {
     "data": {
      "text/plain": [
       "['pikachu', 'Charizard', 'Bulba', 'Gyradas', 'Draganite', 'Onyx', 'Magikarp']"
      ]
     },
     "execution_count": 38,
     "metadata": {},
     "output_type": "execute_result"
    }
   ],
   "source": [
    "pokemon"
   ]
  },
  {
   "cell_type": "code",
   "execution_count": 45,
   "id": "252e1f00-ded0-4dc5-989d-65ad9d4b81f7",
   "metadata": {},
   "outputs": [],
   "source": [
    "pokemon.remove('Draganite')"
   ]
  },
  {
   "cell_type": "code",
   "execution_count": 46,
   "id": "17c3469e-a619-4194-a1f7-2955d14890f8",
   "metadata": {},
   "outputs": [
    {
     "data": {
      "text/plain": [
       "['Pikachu', 'Charizard', 'Bulba', 'Gyradas', 'Onyx']"
      ]
     },
     "execution_count": 46,
     "metadata": {},
     "output_type": "execute_result"
    }
   ],
   "source": [
    "pokemon"
   ]
  },
  {
   "cell_type": "code",
   "execution_count": 47,
   "id": "feefc70a-3391-4cfe-98aa-37b30801432c",
   "metadata": {},
   "outputs": [],
   "source": [
    "my_pop = pokemon.pop(0)"
   ]
  },
  {
   "cell_type": "code",
   "execution_count": 48,
   "id": "769a1ce4-9bba-4304-ae5c-08e2d3671e89",
   "metadata": {},
   "outputs": [
    {
     "name": "stdout",
     "output_type": "stream",
     "text": [
      "['Charizard', 'Bulba', 'Gyradas', 'Onyx']\n"
     ]
    }
   ],
   "source": [
    "print(pokemon)"
   ]
  },
  {
   "cell_type": "code",
   "execution_count": 49,
   "id": "ac820828-6c86-46fb-8c35-84e8a51b75c1",
   "metadata": {},
   "outputs": [],
   "source": [
    "my_new_list = ['1' ,'2', '3', 'Hello', ['A', 'B', 'C'], ['Hurricanes', 'Wolverine']]"
   ]
  },
  {
   "cell_type": "code",
   "execution_count": 50,
   "id": "e0793494-b61a-401b-98c8-e14e403c5508",
   "metadata": {},
   "outputs": [
    {
     "data": {
      "text/plain": [
       "'Hurricanes'"
      ]
     },
     "execution_count": 50,
     "metadata": {},
     "output_type": "execute_result"
    }
   ],
   "source": [
    "my_new_list[5][0]"
   ]
  },
  {
   "cell_type": "code",
   "execution_count": 13,
   "id": "fa341892-87a3-477b-869a-210d51c1aa45",
   "metadata": {},
   "outputs": [],
   "source": [
    "pokemon [0] = 'Raichu'"
   ]
  },
  {
   "cell_type": "code",
   "execution_count": 14,
   "id": "e629eaf5-b5ec-45f1-926c-033c2d353708",
   "metadata": {},
   "outputs": [
    {
     "data": {
      "text/plain": [
       "['Raichu', 'Charizard', 'Bulbasaur', 'Gyarados', 'Dragonite', 'Onyx']"
      ]
     },
     "execution_count": 14,
     "metadata": {},
     "output_type": "execute_result"
    }
   ],
   "source": [
    "pokemon"
   ]
  },
  {
   "cell_type": "code",
   "execution_count": null,
   "id": "a2daf40f-48a1-4d85-ac29-1f507649665f",
   "metadata": {},
   "outputs": [],
   "source": []
  }
 ],
 "metadata": {
  "kernelspec": {
   "display_name": "Python 3 (ipykernel)",
   "language": "python",
   "name": "python3"
  },
  "language_info": {
   "codemirror_mode": {
    "name": "ipython",
    "version": 3
   },
   "file_extension": ".py",
   "mimetype": "text/x-python",
   "name": "python",
   "nbconvert_exporter": "python",
   "pygments_lexer": "ipython3",
   "version": "3.7.11"
  }
 },
 "nbformat": 4,
 "nbformat_minor": 5
}
