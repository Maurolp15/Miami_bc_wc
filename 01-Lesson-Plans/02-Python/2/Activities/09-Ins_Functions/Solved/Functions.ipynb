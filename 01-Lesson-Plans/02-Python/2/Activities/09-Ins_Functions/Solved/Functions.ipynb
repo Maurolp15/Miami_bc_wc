{
 "cells": [
  {
   "cell_type": "code",
   "execution_count": 15,
   "id": "033a7b6e-1b90-49b2-b414-daf5d73e800a",
   "metadata": {},
   "outputs": [],
   "source": [
    "#function - execution of one or many steps\n",
    "def greeting(name):\n",
    "    print(f'Hello {name}')"
   ]
  },
  {
   "cell_type": "code",
   "execution_count": 3,
   "id": "f9ecfc63-f1aa-4a39-8dc7-b0403b431e75",
   "metadata": {},
   "outputs": [
    {
     "name": "stdout",
     "output_type": "stream",
     "text": [
      "Hello\n"
     ]
    }
   ],
   "source": [
    "greeting()"
   ]
  },
  {
   "cell_type": "code",
   "execution_count": 11,
   "id": "f60effaf-bb1f-4bf1-8219-e994d2a2a972",
   "metadata": {},
   "outputs": [
    {
     "name": "stdout",
     "output_type": "stream",
     "text": [
      "Hello Oscar\n"
     ]
    }
   ],
   "source": [
    "greeting(\"Oscar\")"
   ]
  },
  {
   "cell_type": "code",
   "execution_count": 13,
   "id": "23a451e1-d096-44fe-b3b6-a89ab90c2de1",
   "metadata": {},
   "outputs": [
    {
     "name": "stdout",
     "output_type": "stream",
     "text": [
      "Hello Natalia\n"
     ]
    }
   ],
   "source": [
    "greeting('Natalia')"
   ]
  },
  {
   "cell_type": "code",
   "execution_count": 5,
   "id": "c8558fa7-69bc-43af-be5b-7210b00aea8d",
   "metadata": {},
   "outputs": [],
   "source": [
    "def calculate_market_cap(market_price,number_of_shares):\n",
    "    cap = market_price * number_of_shares\n",
    "    \n",
    "    return(cap)"
   ]
  },
  {
   "cell_type": "code",
   "execution_count": 6,
   "id": "8a641ee9-b8da-48be-8599-45d8d7bc74d3",
   "metadata": {},
   "outputs": [
    {
     "data": {
      "text/plain": [
       "40500.0"
      ]
     },
     "execution_count": 6,
     "metadata": {},
     "output_type": "execute_result"
    }
   ],
   "source": [
    "calculate_market_cap(40.50,1000)"
   ]
  },
  {
   "cell_type": "code",
   "execution_count": 7,
   "id": "1be7674a-8cc5-485a-8f43-944dc69915ea",
   "metadata": {},
   "outputs": [],
   "source": [
    "market_cap = calculate_market_cap(40.50,1000)"
   ]
  },
  {
   "cell_type": "code",
   "execution_count": 8,
   "id": "99174ef4-b2a5-415c-b78c-506b522e7855",
   "metadata": {},
   "outputs": [
    {
     "name": "stdout",
     "output_type": "stream",
     "text": [
      "40500.0\n"
     ]
    }
   ],
   "source": [
    "print(market_cap)"
   ]
  },
  {
   "cell_type": "code",
   "execution_count": 9,
   "id": "d835b9fd-6d01-4916-b964-e89b9f03df90",
   "metadata": {},
   "outputs": [],
   "source": [
    "budget = 120000\n",
    "ticker = 'TSLA'\n",
    "share_price = 1068.96"
   ]
  },
  {
   "cell_type": "code",
   "execution_count": 12,
   "id": "8e5fd83f-5d6f-413f-b91c-264e73e36b0d",
   "metadata": {},
   "outputs": [],
   "source": [
    "def total_shares(budget,ticker,share__price):\n",
    "    shares = budget / share_price\n",
    "    print(f'you can buy {shares} shares of {ticker}')"
   ]
  },
  {
   "cell_type": "code",
   "execution_count": 13,
   "id": "7cae15bf-650b-48d8-b262-2142753abd23",
   "metadata": {},
   "outputs": [
    {
     "name": "stdout",
     "output_type": "stream",
     "text": [
      "you can buy 112.2586439155815 shares of TSLA\n"
     ]
    }
   ],
   "source": []
  },
  {
   "cell_type": "code",
   "execution_count": 14,
   "id": "2ed3a9ba-2e18-446b-bc60-c7a800cd5a86",
   "metadata": {},
   "outputs": [],
   "source": [
    "def total_shares(b,t,s):\n",
    "    shares = b / s\n",
    "    print(f'you can buy {shares} shares of {ticker}')"
   ]
  },
  {
   "cell_type": "code",
   "execution_count": null,
   "id": "4e1037cd-66d8-4e69-8e24-b839d5b7130f",
   "metadata": {},
   "outputs": [],
   "source": []
  }
 ],
 "metadata": {
  "kernelspec": {
   "display_name": "Python 3 (ipykernel)",
   "language": "python",
   "name": "python3"
  },
  "language_info": {
   "codemirror_mode": {
    "name": "ipython",
    "version": 3
   },
   "file_extension": ".py",
   "mimetype": "text/x-python",
   "name": "python",
   "nbconvert_exporter": "python",
   "pygments_lexer": "ipython3",
   "version": "3.7.11"
  }
 },
 "nbformat": 4,
 "nbformat_minor": 5
}
