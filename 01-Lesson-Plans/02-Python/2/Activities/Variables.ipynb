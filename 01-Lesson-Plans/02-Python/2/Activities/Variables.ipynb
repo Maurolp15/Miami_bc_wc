{
 "cells": [
  {
   "cell_type": "code",
   "execution_count": 1,
   "id": "082b8e8c-451d-46fc-9249-c030af33446b",
   "metadata": {},
   "outputs": [],
   "source": [
    "# Variables: Reserve allocation in memory that can be a defined value: create, put and retrieve,\n",
    "# Variable: Key word that stores a value / you need a variable as you can change the value\n",
    "  # Integer – whole numbers\n",
    "  # Float – decimal number \n",
    "  # String – alphabetical letters, symbols, anything on quotes \n",
    "    # f’ string (format): look for curly brackets and use them as variables\n",
    "  # Boolean – True or False (capital T and F)"
   ]
  },
  {
   "cell_type": "code",
   "execution_count": 11,
   "id": "9cb9e161-7d9a-4dcb-8745-560cd8881f63",
   "metadata": {},
   "outputs": [],
   "source": [
    "my_number = 5\n",
    "my_style = 'cool'\n",
    "my_name = 'Oscar'"
   ]
  },
  {
   "cell_type": "code",
   "execution_count": 6,
   "id": "f720f0e2-cc04-4fd5-b475-f80ebaa2fd8a",
   "metadata": {},
   "outputs": [
    {
     "name": "stdin",
     "output_type": "stream",
     "text": [
      "What is your name? Oscar\n"
     ]
    }
   ],
   "source": [
    "my_name = input('What is your name?')"
   ]
  },
  {
   "cell_type": "code",
   "execution_count": 7,
   "id": "adeceb6c-502a-4d18-9052-b5423abf5c41",
   "metadata": {},
   "outputs": [
    {
     "name": "stdin",
     "output_type": "stream",
     "text": [
      "What is your name? Oscar\n"
     ]
    },
    {
     "data": {
      "text/plain": [
       "'Oscar'"
      ]
     },
     "execution_count": 7,
     "metadata": {},
     "output_type": "execute_result"
    }
   ],
   "source": [
    "input('What is your name?')"
   ]
  },
  {
   "cell_type": "code",
   "execution_count": 8,
   "id": "a37dd401-d1fc-4beb-b167-448e18936bc7",
   "metadata": {},
   "outputs": [
    {
     "name": "stdout",
     "output_type": "stream",
     "text": [
      "Hello Oscar\n"
     ]
    }
   ],
   "source": [
    "print(f'Hello {my_name}')"
   ]
  },
  {
   "cell_type": "code",
   "execution_count": 2,
   "id": "dfe460e9-330a-46ab-a0c1-ca625d658ea2",
   "metadata": {},
   "outputs": [
    {
     "name": "stdout",
     "output_type": "stream",
     "text": [
      "5\n"
     ]
    }
   ],
   "source": [
    "print(my_number)"
   ]
  },
  {
   "cell_type": "code",
   "execution_count": 4,
   "id": "0328c990-c0ce-4697-98a5-b5dfe9964f31",
   "metadata": {},
   "outputs": [
    {
     "name": "stdout",
     "output_type": "stream",
     "text": [
      "cool\n"
     ]
    }
   ],
   "source": [
    "print(my_style)"
   ]
  },
  {
   "cell_type": "code",
   "execution_count": 8,
   "id": "7e493f5a-152d-4812-bab9-0188d101f287",
   "metadata": {},
   "outputs": [
    {
     "name": "stdout",
     "output_type": "stream",
     "text": [
      "I used the soccer jersey number 5 in high scool\n"
     ]
    }
   ],
   "source": [
    "print(f\"I used the soccer jersey number {my_number} in high scool\")"
   ]
  },
  {
   "cell_type": "code",
   "execution_count": 13,
   "id": "e3956c7b-3b4e-4bcd-b547-0f41ef9ff938",
   "metadata": {},
   "outputs": [
    {
     "name": "stdout",
     "output_type": "stream",
     "text": [
      "Oscar used the soccer jersey number 5 in high school\n"
     ]
    }
   ],
   "source": [
    "print(f\"{my_name} used the soccer jersey number {my_number} in high school\")"
   ]
  },
  {
   "cell_type": "code",
   "execution_count": null,
   "id": "05e9d15c-cd20-4c7f-bdde-5c8898453475",
   "metadata": {},
   "outputs": [],
   "source": []
  }
 ],
 "metadata": {
  "kernelspec": {
   "display_name": "Python 3 (ipykernel)",
   "language": "python",
   "name": "python3"
  },
  "language_info": {
   "codemirror_mode": {
    "name": "ipython",
    "version": 3
   },
   "file_extension": ".py",
   "mimetype": "text/x-python",
   "name": "python",
   "nbconvert_exporter": "python",
   "pygments_lexer": "ipython3",
   "version": "3.7.11"
  }
 },
 "nbformat": 4,
 "nbformat_minor": 5
}
