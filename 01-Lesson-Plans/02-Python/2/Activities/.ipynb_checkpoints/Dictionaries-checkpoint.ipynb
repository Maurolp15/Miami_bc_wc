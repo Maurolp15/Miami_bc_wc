{
 "cells": [
  {
   "cell_type": "code",
   "execution_count": 2,
   "id": "8e49b9d1-f0ff-4297-af1c-01c8ca8ee7de",
   "metadata": {},
   "outputs": [],
   "source": [
    "# dictionaries are keys - values pairs\n",
    "top_traders = {\"key\":\"value\"}"
   ]
  },
  {
   "cell_type": "code",
   "execution_count": 3,
   "id": "fa039817-801b-4ba4-aa90-fdb5fb02c030",
   "metadata": {},
   "outputs": [
    {
     "data": {
      "text/plain": [
       "1"
      ]
     },
     "execution_count": 3,
     "metadata": {},
     "output_type": "execute_result"
    }
   ],
   "source": [
    "len(top_traders)"
   ]
  },
  {
   "cell_type": "code",
   "execution_count": 5,
   "id": "7f9a23dd-99ec-4fe9-a187-c316db70e46d",
   "metadata": {},
   "outputs": [
    {
     "data": {
      "text/plain": [
       "dict_keys(['key'])"
      ]
     },
     "execution_count": 5,
     "metadata": {},
     "output_type": "execute_result"
    }
   ],
   "source": [
    "top_traders.keys()"
   ]
  },
  {
   "cell_type": "code",
   "execution_count": 6,
   "id": "663feac1-79fd-4439-8bec-84fc45eaf119",
   "metadata": {},
   "outputs": [
    {
     "data": {
      "text/plain": [
       "dict_values(['value'])"
      ]
     },
     "execution_count": 6,
     "metadata": {},
     "output_type": "execute_result"
    }
   ],
   "source": [
    "top_traders.values()"
   ]
  },
  {
   "cell_type": "code",
   "execution_count": 7,
   "id": "299abce6-66f1-4412-ae42-cd177c740f7e",
   "metadata": {},
   "outputs": [
    {
     "data": {
      "text/plain": [
       "dict_items([('key', 'value')])"
      ]
     },
     "execution_count": 7,
     "metadata": {},
     "output_type": "execute_result"
    }
   ],
   "source": [
    "top_traders.items()"
   ]
  },
  {
   "cell_type": "code",
   "execution_count": null,
   "id": "56bf56e9-4676-463f-a9ce-47f2ba2cf0bb",
   "metadata": {},
   "outputs": [],
   "source": [
    "#tuple unpacking\n"
   ]
  }
 ],
 "metadata": {
  "kernelspec": {
   "display_name": "Python 3 (ipykernel)",
   "language": "python",
   "name": "python3"
  },
  "language_info": {
   "codemirror_mode": {
    "name": "ipython",
    "version": 3
   },
   "file_extension": ".py",
   "mimetype": "text/x-python",
   "name": "python",
   "nbconvert_exporter": "python",
   "pygments_lexer": "ipython3",
   "version": "3.9.7"
  }
 },
 "nbformat": 4,
 "nbformat_minor": 5
}
