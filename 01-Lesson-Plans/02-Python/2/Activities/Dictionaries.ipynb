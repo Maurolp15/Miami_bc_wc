{
 "cells": [
  {
   "cell_type": "code",
   "execution_count": 2,
   "id": "ee6df0d3-b7d1-4c09-84e4-6e23c6ddb42c",
   "metadata": {},
   "outputs": [],
   "source": [
    "# dictionaries are keys - values pairs\n",
    "# tuple unpacking "
   ]
  },
  {
   "cell_type": "code",
   "execution_count": 6,
   "id": "bfd2d140-21ee-41a1-b3d6-5e2d36b0ab5d",
   "metadata": {},
   "outputs": [
    {
     "name": "stdout",
     "output_type": "stream",
     "text": [
      "{'january': 'Karen', 'february': 'Harold', 'march': 'Sam'}\n"
     ]
    }
   ],
   "source": [
    "top_traders = {\"january\":\"Karen\",\n",
    "              \"february\":\"Harold\",\n",
    "              'march':\"Sam\"}\n",
    "\n",
    "name_dictionary = {\"Karen\":25,\n",
    "                   \"Harold\":43,\n",
    "                   \"Sam\":39}\n",
    "\n",
    "print(top_traders)"
   ]
  },
  {
   "cell_type": "code",
   "execution_count": 10,
   "id": "fa039817-801b-4ba4-aa90-fdb5fb02c030",
   "metadata": {},
   "outputs": [
    {
     "data": {
      "text/plain": [
       "4"
      ]
     },
     "execution_count": 10,
     "metadata": {},
     "output_type": "execute_result"
    }
   ],
   "source": [
    "len(top_traders)"
   ]
  },
  {
   "cell_type": "code",
   "execution_count": 11,
   "id": "7f9a23dd-99ec-4fe9-a187-c316db70e46d",
   "metadata": {},
   "outputs": [
    {
     "data": {
      "text/plain": [
       "dict_keys(['january', 'february', 'march', 'april'])"
      ]
     },
     "execution_count": 11,
     "metadata": {},
     "output_type": "execute_result"
    }
   ],
   "source": [
    "top_traders.keys()"
   ]
  },
  {
   "cell_type": "code",
   "execution_count": 12,
   "id": "663feac1-79fd-4439-8bec-84fc45eaf119",
   "metadata": {},
   "outputs": [
    {
     "data": {
      "text/plain": [
       "dict_values(['Karen', 'Harold', 'Sam', 'Bob'])"
      ]
     },
     "execution_count": 12,
     "metadata": {},
     "output_type": "execute_result"
    }
   ],
   "source": [
    "top_traders.values()"
   ]
  },
  {
   "cell_type": "code",
   "execution_count": 13,
   "id": "299abce6-66f1-4412-ae42-cd177c740f7e",
   "metadata": {},
   "outputs": [
    {
     "data": {
      "text/plain": [
       "dict_items([('january', 'Karen'), ('february', 'Harold'), ('march', 'Sam'), ('april', 'Bob')])"
      ]
     },
     "execution_count": 13,
     "metadata": {},
     "output_type": "execute_result"
    }
   ],
   "source": [
    "top_traders.items()"
   ]
  },
  {
   "cell_type": "code",
   "execution_count": 5,
   "id": "56bf56e9-4676-463f-a9ce-47f2ba2cf0bb",
   "metadata": {},
   "outputs": [
    {
     "data": {
      "text/plain": [
       "'Harold'"
      ]
     },
     "execution_count": 5,
     "metadata": {},
     "output_type": "execute_result"
    }
   ],
   "source": [
    "top_traders[\"february\"]\n"
   ]
  },
  {
   "cell_type": "code",
   "execution_count": 7,
   "id": "31100da9-380f-4a40-bba4-93ed678ba824",
   "metadata": {},
   "outputs": [
    {
     "data": {
      "text/plain": [
       "39"
      ]
     },
     "execution_count": 7,
     "metadata": {},
     "output_type": "execute_result"
    }
   ],
   "source": [
    "name_dictionary[\"Sam\"]"
   ]
  },
  {
   "cell_type": "code",
   "execution_count": 8,
   "id": "6a409bb3-d214-498a-8a47-f7b94730e41f",
   "metadata": {},
   "outputs": [],
   "source": [
    "top_traders[\"april\"] = \"Bob\""
   ]
  },
  {
   "cell_type": "code",
   "execution_count": 9,
   "id": "11d19a4f-9037-4594-9bbb-c4acd885cfac",
   "metadata": {},
   "outputs": [
    {
     "data": {
      "text/plain": [
       "{'january': 'Karen', 'february': 'Harold', 'march': 'Sam', 'april': 'Bob'}"
      ]
     },
     "execution_count": 9,
     "metadata": {},
     "output_type": "execute_result"
    }
   ],
   "source": [
    "top_traders"
   ]
  },
  {
   "cell_type": "code",
   "execution_count": 15,
   "id": "470d1272-edc8-4a1d-97ab-762cd3651f09",
   "metadata": {},
   "outputs": [
    {
     "name": "stdout",
     "output_type": "stream",
     "text": [
      "january\n",
      "february\n",
      "march\n",
      "april\n"
     ]
    }
   ],
   "source": [
    "for d in top_traders:\n",
    "    print(d)"
   ]
  },
  {
   "cell_type": "code",
   "execution_count": 19,
   "id": "b77b5a17-a47b-4fa0-b484-a7c756fc0cce",
   "metadata": {},
   "outputs": [
    {
     "name": "stdout",
     "output_type": "stream",
     "text": [
      "Karen\n",
      "Harold\n",
      "Sam\n",
      "Bob\n"
     ]
    }
   ],
   "source": [
    "for d in top_traders.values():\n",
    "    print(d)"
   ]
  },
  {
   "cell_type": "code",
   "execution_count": 22,
   "id": "b4a9c97e-2526-481f-ba14-c7d0c7eeedf9",
   "metadata": {},
   "outputs": [
    {
     "name": "stdout",
     "output_type": "stream",
     "text": [
      "key:  january\n",
      "value:  Karen\n",
      "------\n",
      "key:  february\n",
      "value:  Harold\n",
      "------\n",
      "key:  march\n",
      "value:  Sam\n",
      "------\n",
      "key:  april\n",
      "value:  Bob\n",
      "------\n"
     ]
    }
   ],
   "source": [
    "for k,v in top_traders.items():\n",
    "    print('key: ',k)\n",
    "    print('value: ',v)\n",
    "    print('------')"
   ]
  },
  {
   "cell_type": "code",
   "execution_count": 24,
   "id": "e6db9759-2a4e-421b-b96a-1048ecc54acc",
   "metadata": {},
   "outputs": [
    {
     "name": "stdout",
     "output_type": "stream",
     "text": [
      "key: january\n",
      "value: Karen\n",
      "------\n",
      "key: february\n",
      "value: Harold\n",
      "------\n",
      "key: march\n",
      "value: Sam\n",
      "------\n",
      "key: april\n",
      "value: Bob\n",
      "------\n"
     ]
    }
   ],
   "source": [
    "for k,v in top_traders.items():\n",
    "    print(f'key: {k}')\n",
    "    print(f'value: {v}')\n",
    "    print(f'------')"
   ]
  },
  {
   "cell_type": "code",
   "execution_count": 34,
   "id": "b139627b-f4d8-43ef-955d-4b6d8a2cf356",
   "metadata": {},
   "outputs": [],
   "source": [
    "my_favorites = {\n",
    "                'movies': 'blue valentine',\n",
    "                'music': ['vll', 'salsa'],\n",
    "                'jobs': {\n",
    "                        'primary':'PM',\n",
    "                        'secondary':'coach'\n",
    "                        }\n",
    "}"
   ]
  },
  {
   "cell_type": "code",
   "execution_count": 36,
   "id": "d5de039b-f7a2-4d47-94d5-d0bd0fa694df",
   "metadata": {},
   "outputs": [
    {
     "data": {
      "text/plain": [
       "dict"
      ]
     },
     "execution_count": 36,
     "metadata": {},
     "output_type": "execute_result"
    }
   ],
   "source": [
    "type(my_favorites)"
   ]
  },
  {
   "cell_type": "code",
   "execution_count": 40,
   "id": "6f44c01b-2735-4c69-b450-5b4dc4b1a1c7",
   "metadata": {},
   "outputs": [
    {
     "data": {
      "text/plain": [
       "'coach'"
      ]
     },
     "execution_count": 40,
     "metadata": {},
     "output_type": "execute_result"
    }
   ],
   "source": [
    "my_favorites['jobs']['secondary']"
   ]
  },
  {
   "cell_type": "code",
   "execution_count": 41,
   "id": "b9a543c3-f528-4df6-a1e4-f7610eaa7aee",
   "metadata": {},
   "outputs": [
    {
     "data": {
      "text/plain": [
       "'vll'"
      ]
     },
     "execution_count": 41,
     "metadata": {},
     "output_type": "execute_result"
    }
   ],
   "source": [
    "my_favorites['music'][0]"
   ]
  },
  {
   "cell_type": "code",
   "execution_count": null,
   "id": "23ce9b07-33c4-4480-85b1-2e0411699004",
   "metadata": {},
   "outputs": [],
   "source": []
  }
 ],
 "metadata": {
  "kernelspec": {
   "display_name": "Python 3 (ipykernel)",
   "language": "python",
   "name": "python3"
  },
  "language_info": {
   "codemirror_mode": {
    "name": "ipython",
    "version": 3
   },
   "file_extension": ".py",
   "mimetype": "text/x-python",
   "name": "python",
   "nbconvert_exporter": "python",
   "pygments_lexer": "ipython3",
   "version": "3.7.11"
  }
 },
 "nbformat": 4,
 "nbformat_minor": 5
}
