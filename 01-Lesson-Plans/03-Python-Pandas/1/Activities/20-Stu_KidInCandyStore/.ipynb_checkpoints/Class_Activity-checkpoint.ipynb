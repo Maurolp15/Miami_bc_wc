{
 "cells": [
  {
   "cell_type": "code",
   "execution_count": 4,
   "id": "a870e42a-bf38-48ab-aca8-d192910df571",
   "metadata": {},
   "outputs": [
    {
     "name": "stdout",
     "output_type": "stream",
     "text": [
      "[0] Snickers\n",
      "[1] Kit Kat\n",
      "[2] Sour Patch Kids\n",
      "[3] Juicy Fruit\n",
      "[4] Swedish Fish\n",
      "[5] Skittles\n",
      "[6] Hershey Bar\n",
      "[7] Starbursts\n",
      "[8] M&Ms\n"
     ]
    }
   ],
   "source": [
    "# The list of candies to print to the screen\n",
    "candyList = [\"Snickers\", \"Kit Kat\", \"Sour Patch Kids\", \"Juicy Fruit\", \"Swedish Fish\",\n",
    "             \"Skittles\", \"Hershey Bar\", \"Starbursts\", \"M&Ms\"]\n",
    "\n",
    "# The amount of candy the user will be allowed to choose\n",
    "allowance = 5\n",
    "\n",
    "# The list used to store all of the candies selected inside of\n",
    "candyCart = []\n",
    "\n",
    "for i in range(len(candyList)):\n",
    "    print(\"[\" + str(i) + \"] \" + candyList[i])"
   ]
  },
  {
   "cell_type": "code",
   "execution_count": 7,
   "id": "6c5278e6-b9f5-4b21-97e0-ff89fa6759e5",
   "metadata": {},
   "outputs": [
    {
     "name": "stdout",
     "output_type": "stream",
     "text": [
      "[0] Snickers\n",
      "[1] Kit Kat\n",
      "[2] Sour Patch Kids\n",
      "[3] Juicy Fruit\n",
      "[4] Swedish Fish\n",
      "[5] Skittles\n",
      "[6] Hershey Bar\n",
      "[7] Starbursts\n",
      "[8] M&Ms\n"
     ]
    },
    {
     "name": "stdin",
     "output_type": "stream",
     "text": [
      "Please choose a number corresponding to a candy: 6\n",
      "Would you like to select another candy? (yes/no) yes\n"
     ]
    },
    {
     "name": "stdout",
     "output_type": "stream",
     "text": [
      "[0] Snickers\n",
      "[1] Kit Kat\n",
      "[2] Sour Patch Kids\n",
      "[3] Juicy Fruit\n",
      "[4] Swedish Fish\n",
      "[5] Skittles\n",
      "[6] Hershey Bar\n",
      "[7] Starbursts\n",
      "[8] M&Ms\n"
     ]
    },
    {
     "name": "stdin",
     "output_type": "stream",
     "text": [
      "Please choose a number corresponding to a candy: 3\n",
      "Would you like to select another candy? (yes/no) yes\n"
     ]
    },
    {
     "name": "stdout",
     "output_type": "stream",
     "text": [
      "[0] Snickers\n",
      "[1] Kit Kat\n",
      "[2] Sour Patch Kids\n",
      "[3] Juicy Fruit\n",
      "[4] Swedish Fish\n",
      "[5] Skittles\n",
      "[6] Hershey Bar\n",
      "[7] Starbursts\n",
      "[8] M&Ms\n"
     ]
    },
    {
     "name": "stdin",
     "output_type": "stream",
     "text": [
      "Please choose a number corresponding to a candy: 0\n",
      "Would you like to select another candy? (yes/no) no\n"
     ]
    }
   ],
   "source": [
    "choosing = \"yes\"\n",
    "while choosing == \"yes\": \n",
    "    for i in range(len(candyList)):\n",
    "        print(\"[\" + str(i) + \"] \" + candyList[i])\n",
    "    selection = int(input(\"Please choose a number corresponding to a candy:\"))\n",
    "    candyCart.append(candyList[selection])\n",
    "    \n",
    "    choosing = input(\"Would you like to select another candy? (yes/no)\")"
   ]
  },
  {
   "cell_type": "code",
   "execution_count": 10,
   "id": "3c0316b0-49ff-427c-ba2f-e2c969c5f72f",
   "metadata": {},
   "outputs": [
    {
     "name": "stdout",
     "output_type": "stream",
     "text": [
      "You've selected the following candy:\n",
      "Swedish Fish\n",
      "Snickers\n",
      "Hershey Bar\n",
      "Juicy Fruit\n",
      "Snickers\n"
     ]
    }
   ],
   "source": [
    "print(f\"You've selected the following candy:\")\n",
    "for c in candyCart:\n",
    "    print(c)"
   ]
  },
  {
   "cell_type": "code",
   "execution_count": 12,
   "id": "e427d188-5d44-4e3c-a3bf-e902ce44373f",
   "metadata": {},
   "outputs": [
    {
     "data": {
      "text/plain": [
       "['Swedish Fish', 'Snickers', 'Hershey Bar', 'Juicy Fruit', 'Snickers']"
      ]
     },
     "execution_count": 12,
     "metadata": {},
     "output_type": "execute_result"
    }
   ],
   "source": [
    "candyCart"
   ]
  },
  {
   "cell_type": "code",
   "execution_count": 13,
   "id": "81fe23d7-fb9f-4f88-aa21-0d7bfc2ac2c5",
   "metadata": {},
   "outputs": [
    {
     "data": {
      "text/plain": [
       "'Swedish Fish, Snickers, Hershey Bar, Juicy Fruit, Snickers'"
      ]
     },
     "execution_count": 13,
     "metadata": {},
     "output_type": "execute_result"
    }
   ],
   "source": [
    "\", \".join(candyCart)"
   ]
  },
  {
   "cell_type": "code",
   "execution_count": 17,
   "id": "72bad117-f240-458a-8088-a33f277ce729",
   "metadata": {},
   "outputs": [
    {
     "name": "stdout",
     "output_type": "stream",
     "text": [
      "['H', 'llo my b', 'autiful class']\n"
     ]
    }
   ],
   "source": [
    "my_sting = \"Hello my beautiful class\"\n",
    "my_list = my_sting.split(\"e\")\n",
    "print(my_list)"
   ]
  },
  {
   "cell_type": "code",
   "execution_count": null,
   "id": "7bc6b153-ba09-40c8-93cc-d2cdc2073b2a",
   "metadata": {},
   "outputs": [],
   "source": []
  }
 ],
 "metadata": {
  "kernelspec": {
   "display_name": "Python 3 (ipykernel)",
   "language": "python",
   "name": "python3"
  },
  "language_info": {
   "codemirror_mode": {
    "name": "ipython",
    "version": 3
   },
   "file_extension": ".py",
   "mimetype": "text/x-python",
   "name": "python",
   "nbconvert_exporter": "python",
   "pygments_lexer": "ipython3",
   "version": "3.7.11"
  }
 },
 "nbformat": 4,
 "nbformat_minor": 5
}
