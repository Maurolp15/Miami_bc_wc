{
 "cells": [
  {
   "cell_type": "code",
   "execution_count": 1,
   "id": "e67ac2b8-7f60-43d1-be2b-1105ac3cfbce",
   "metadata": {},
   "outputs": [
    {
     "name": "stdout",
     "output_type": "stream",
     "text": [
      "Let's Play Rock Paper Scissors!\n"
     ]
    },
    {
     "name": "stdin",
     "output_type": "stream",
     "text": [
      "Make your Choice: rock, paper, scissors?  paper\n"
     ]
    }
   ],
   "source": [
    "# Incorporate the random library\n",
    "import random\n",
    "\n",
    "# Print Title\n",
    "print(\"Let's Play Rock Paper Scissors!\")\n",
    "\n",
    "# Specify the three options\n",
    "options = [\"rocks\", \"paper\", \"scissors\"]\n",
    "\n",
    "# User Selection\n",
    "user_choice = input(\"Make your Choice: rock, paper, scissors? \")\n",
    "\n",
    "# Computer Selection\n",
    "computer_choice = random.choice(options)\n",
    "\n",
    "if computer_choice == \"r\" and users_choice == \"r\":\n",
    "        print(\"It's a draw\")\n",
    "elif computer_choice == \"r\" and users_choice == \"s\":\n",
    "        print(\"You lost\")\n",
    "elif computer_choice == \"r\" and users_choice == \"p\":\n",
    "        print(\"You won\")\n",
    "elif computer_choice == \"p\" and users_choice == \"p\":\n",
    "        print(\"It's a draw\")\n",
    "elif computer_choice == \"p\" and users_choice == \"s\":\n",
    "        print(\"You lost\")\n",
    "elif computer_choice == \"p\" and users_choice == \"r\":\n",
    "        print(\"You won\")\n",
    "elif computer_choice == \"s\" and users_choice == \"s\":\n",
    "        print(\"It's a draw\")\n",
    "elif computer_choice == \"s\" and users_choice == \"p\":\n",
    "        print(\"You lost\")\n",
    "elif computer_choice == \"s\" and users_choice == \"r\":\n",
    "        print(\"You won\") \n",
    "    \n",
    "# Run Conditionals"
   ]
  },
  {
   "cell_type": "code",
   "execution_count": 13,
   "id": "186a43cd-5901-4ca9-b9b2-2c6ffed26b9b",
   "metadata": {},
   "outputs": [],
   "source": []
  },
  {
   "cell_type": "code",
   "execution_count": null,
   "id": "759d7a44-9b8a-451a-8fb7-d2bcb7560cf1",
   "metadata": {},
   "outputs": [],
   "source": []
  }
 ],
 "metadata": {
  "kernelspec": {
   "display_name": "Python 3 (ipykernel)",
   "language": "python",
   "name": "python3"
  },
  "language_info": {
   "codemirror_mode": {
    "name": "ipython",
    "version": 3
   },
   "file_extension": ".py",
   "mimetype": "text/x-python",
   "name": "python",
   "nbconvert_exporter": "python",
   "pygments_lexer": "ipython3",
   "version": "3.7.11"
  }
 },
 "nbformat": 4,
 "nbformat_minor": 5
}
