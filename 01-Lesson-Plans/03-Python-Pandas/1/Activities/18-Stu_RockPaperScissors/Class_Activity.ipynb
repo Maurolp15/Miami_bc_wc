{
 "cells": [
  {
   "cell_type": "code",
   "execution_count": 1,
   "id": "01b9f54a-57d0-4d1a-be09-b85f65956f9a",
   "metadata": {},
   "outputs": [],
   "source": [
    "# Incorporate the random library\n",
    "\n",
    "# Print Title\n",
    "\n",
    "# Specify the three options\n",
    "\n",
    "# Computer Selection\n",
    "\n",
    "# User Selection\n",
    "\n",
    "# Run Conditionals"
   ]
  },
  {
   "cell_type": "code",
   "execution_count": 14,
   "id": "cb61f40f-7251-4af0-bf96-937444c3267f",
   "metadata": {},
   "outputs": [],
   "source": [
    "import random"
   ]
  },
  {
   "cell_type": "code",
   "execution_count": 29,
   "id": "d250e6e7-14bc-4e11-876a-e35936f949c0",
   "metadata": {},
   "outputs": [
    {
     "ename": "SyntaxError",
     "evalue": "invalid syntax (462763142.py, line 9)",
     "output_type": "error",
     "traceback": [
      "\u001b[0;36m  File \u001b[0;32m\"/var/folders/4c/n0d3gkhn0rq607n3sdpf7n000000gn/T/ipykernel_8038/462763142.py\"\u001b[0;36m, line \u001b[0;32m9\u001b[0m\n\u001b[0;31m    if (computer_choice == 'r' and users_choice == 'r') or (computer_choice == 'p' and users_choice == 'p') or (computer_choice == 's' and users_choice == 's')\u001b[0m\n\u001b[0m                                                                                                                                                               ^\u001b[0m\n\u001b[0;31mSyntaxError\u001b[0m\u001b[0;31m:\u001b[0m invalid syntax\n"
     ]
    }
   ],
   "source": [
    "print(\"Let's play: rock, paper, scissors!\")\n",
    "\n",
    "options = ['r', 'p', 's']\n",
    "\n",
    "computer_choice = random.choice(options)\n",
    "\n",
    "users_choice = input(\"Make your choice: (r)ock, (p)aper, (s)cissors\")\n",
    "\n",
    "if (computer_choice == 'r' and users_choice == 'r') or (computer_choice == 'p' and users_choice == 'p') or (computer_choice == 's' and users_choice == 's')\n",
    "    #print(f\"It's a draw! Computer chose {computer_choice} and you chose {users_choice})\n",
    "\n",
    "#elif (computer_choice == \"r\" and users_choice == \"s\") or (computer_choice == \"s\" and users_choice == \"p\") or (computer_choice == \"p\" and users_choice == \"r\")\n",
    "    #print(f\"You lost! Computer chose {computer_choice} and you chose {users_choice})\n",
    "\n",
    "#elif (computer_choice == \"r\" and users_choice == \"p\") or (computer_choice == \"s\" and users_choice == \"r\") or (computer_choice == \"p\" and users_choice == \"s\")\n",
    "    #print(f\"You won! Computer chose {computer_choice} and you chose {users_choice})\n",
    "        "
   ]
  },
  {
   "cell_type": "code",
   "execution_count": null,
   "id": "b47fa0e1-642f-4a2b-83c3-7f2a87fae2b4",
   "metadata": {},
   "outputs": [],
   "source": [
    " "
   ]
  },
  {
   "cell_type": "code",
   "execution_count": null,
   "id": "cb5b56a7-1550-498d-adcf-5d69a5c43dd0",
   "metadata": {},
   "outputs": [],
   "source": []
  }
 ],
 "metadata": {
  "kernelspec": {
   "display_name": "Python 3 (ipykernel)",
   "language": "python",
   "name": "python3"
  },
  "language_info": {
   "codemirror_mode": {
    "name": "ipython",
    "version": 3
   },
   "file_extension": ".py",
   "mimetype": "text/x-python",
   "name": "python",
   "nbconvert_exporter": "python",
   "pygments_lexer": "ipython3",
   "version": "3.7.11"
  }
 },
 "nbformat": 4,
 "nbformat_minor": 5
}
