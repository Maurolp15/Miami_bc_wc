{
 "cells": [
  {
   "cell_type": "code",
   "execution_count": 1,
   "id": "858e49f0-2ce0-4c97-96f2-78719ecc5516",
   "metadata": {},
   "outputs": [
    {
     "data": {
      "text/plain": [
       "NoneType"
      ]
     },
     "execution_count": 1,
     "metadata": {},
     "output_type": "execute_result"
    }
   ],
   "source": [
    "#strings, ints, floats, bools\n",
    "subject = None \n",
    "type(subject)"
   ]
  },
  {
   "cell_type": "code",
   "execution_count": 3,
   "id": "5b289eb3-627a-4346-bc4b-b34219273c0f",
   "metadata": {},
   "outputs": [],
   "source": [
    "subject = \"Programmers\""
   ]
  },
  {
   "cell_type": "code",
   "execution_count": 2,
   "id": "97f4cd28-57dd-4245-9b00-19d09ce9e4d8",
   "metadata": {},
   "outputs": [],
   "source": [
    "first_name = \"Oscar\"\n",
    "last_name = \"Lopez\""
   ]
  },
  {
   "cell_type": "code",
   "execution_count": 3,
   "id": "607dcce2-759a-4dfe-9eb9-39b1d50e149b",
   "metadata": {},
   "outputs": [
    {
     "data": {
      "text/plain": [
       "'OscarLopez'"
      ]
     },
     "execution_count": 3,
     "metadata": {},
     "output_type": "execute_result"
    }
   ],
   "source": [
    "first_name + last_name"
   ]
  },
  {
   "cell_type": "code",
   "execution_count": 4,
   "id": "ed13d870-0895-4f67-a191-e14118958de6",
   "metadata": {},
   "outputs": [],
   "source": [
    "full_name = first_name + \" \" + last_name"
   ]
  },
  {
   "cell_type": "code",
   "execution_count": 5,
   "id": "5e33b1f2-6396-4616-a38e-182471980b9f",
   "metadata": {},
   "outputs": [
    {
     "name": "stdout",
     "output_type": "stream",
     "text": [
      "Oscar Lopez\n"
     ]
    }
   ],
   "source": [
    "print(full_name)"
   ]
  },
  {
   "cell_type": "code",
   "execution_count": 7,
   "id": "3acfb034-16f6-4a61-b536-12d4388c3098",
   "metadata": {},
   "outputs": [
    {
     "name": "stdout",
     "output_type": "stream",
     "text": [
      "Oscar--Lopez\n"
     ]
    }
   ],
   "source": [
    "full_name = f'{first_name}--{last_name}'\n",
    "print(full_name)"
   ]
  },
  {
   "cell_type": "code",
   "execution_count": 10,
   "id": "531a1ca8-c886-4298-befa-61fbdd85a9eb",
   "metadata": {},
   "outputs": [],
   "source": [
    "birth_year = 1815\n",
    "death_year = 1852"
   ]
  },
  {
   "cell_type": "code",
   "execution_count": 12,
   "id": "474a5e92-e64c-41ab-ad81-e61af4b21d3c",
   "metadata": {},
   "outputs": [
    {
     "name": "stdout",
     "output_type": "stream",
     "text": [
      "37\n"
     ]
    }
   ],
   "source": [
    "age_at_death = death_year - birth_year\n",
    "print(age_at_death)"
   ]
  },
  {
   "cell_type": "code",
   "execution_count": 15,
   "id": "3d3552eb-e530-4305-afca-5c8205600db5",
   "metadata": {},
   "outputs": [
    {
     "name": "stdout",
     "output_type": "stream",
     "text": [
      "Oscar--Lopez died at the age of 37\n"
     ]
    }
   ],
   "source": [
    "print(f'{full_name} died at the age of {age_at_death}')"
   ]
  },
  {
   "cell_type": "code",
   "execution_count": 17,
   "id": "15b2db7a-643b-49fe-a730-ba704a417fc1",
   "metadata": {},
   "outputs": [
    {
     "name": "stdout",
     "output_type": "stream",
     "text": [
      "Oscar--Lopez died at the age of 37\n"
     ]
    }
   ],
   "source": [
    "print(\"{} died at the age of {}\".format(full_name,age_at_death))"
   ]
  },
  {
   "cell_type": "code",
   "execution_count": 18,
   "id": "70b521d4-22f7-4e23-8569-57450aa9c3de",
   "metadata": {},
   "outputs": [],
   "source": [
    "farm_animals = [\"cow\",\"horse\",\"pig\",\"chiken\",\"sheep\"]"
   ]
  },
  {
   "cell_type": "code",
   "execution_count": 20,
   "id": "356289f5-440c-4687-9d55-045ee6eb95fb",
   "metadata": {},
   "outputs": [
    {
     "name": "stdout",
     "output_type": "stream",
     "text": [
      "Godzilla and Mothra are not farm animals\n"
     ]
    }
   ],
   "source": [
    "#if <conditional - must result true/false\n",
    "\n",
    "if farm_animals [0] == \"Godzilla\":\n",
    "    print(\"Rawr!\")\n",
    "\n",
    "elif farm_animals[0] == \"Mothra\":\n",
    "    print(\"Whoosh\")\n",
    "    \n",
    "else:\n",
    "    print(\"Godzilla and Mothra are not farm animals\")"
   ]
  },
  {
   "cell_type": "code",
   "execution_count": 21,
   "id": "79d0dd83-5721-4c4f-ab92-0b9bc2ff5200",
   "metadata": {},
   "outputs": [],
   "source": [
    "budget = 5000\n",
    "rent = 1500\n",
    "utilities = 150\n",
    "food = 250\n",
    "transportation = 350\n",
    "computer = 2000"
   ]
  },
  {
   "cell_type": "code",
   "execution_count": 22,
   "id": "adc8abd3-d522-4c8a-a4a6-b6688951ff25",
   "metadata": {},
   "outputs": [],
   "source": [
    "expenses = rent + utilities + food + transportation + computer"
   ]
  },
  {
   "cell_type": "code",
   "execution_count": 25,
   "id": "38aaa46f-261d-4853-9124-36d2f418c929",
   "metadata": {},
   "outputs": [
    {
     "name": "stdout",
     "output_type": "stream",
     "text": [
      "I'm within my budget\n"
     ]
    }
   ],
   "source": [
    "if expenses > budget:\n",
    "    print(\"I'm in trouble\")\n",
    "    computer = 1000\n",
    "else:\n",
    "    print(\"I'm within my budget\")"
   ]
  },
  {
   "cell_type": "code",
   "execution_count": 26,
   "id": "7888ec7e-0544-4261-9bac-159a497cb0cd",
   "metadata": {},
   "outputs": [
    {
     "name": "stdin",
     "output_type": "stream",
     "text": [
      "What is your name? Oscar\n"
     ]
    }
   ],
   "source": [
    "my_name = input(\"What is your name?\")"
   ]
  },
  {
   "cell_type": "code",
   "execution_count": 27,
   "id": "7f2737b9-44f1-4850-89ba-f06084715bd8",
   "metadata": {},
   "outputs": [
    {
     "name": "stdout",
     "output_type": "stream",
     "text": [
      "Oscar\n"
     ]
    }
   ],
   "source": [
    "print(my_name)"
   ]
  },
  {
   "cell_type": "code",
   "execution_count": 29,
   "id": "d32d5f41-45b5-4c22-851e-17951a9d5f71",
   "metadata": {},
   "outputs": [
    {
     "name": "stdin",
     "output_type": "stream",
     "text": [
      "How many years have you worked in PM? 17\n"
     ]
    }
   ],
   "source": [
    "years_of_xp = input(\"How many years have you worked in PM?\")"
   ]
  },
  {
   "cell_type": "code",
   "execution_count": 30,
   "id": "75c3386a-ec61-455a-8c5c-7ae85aee619a",
   "metadata": {},
   "outputs": [
    {
     "data": {
      "text/plain": [
       "str"
      ]
     },
     "execution_count": 30,
     "metadata": {},
     "output_type": "execute_result"
    }
   ],
   "source": [
    "type(years_of_xp)"
   ]
  },
  {
   "cell_type": "code",
   "execution_count": 31,
   "id": "d03ad926-5621-4c04-ae74-ea6bda4b61dd",
   "metadata": {},
   "outputs": [
    {
     "name": "stdin",
     "output_type": "stream",
     "text": [
      "How many years have you worked in PM? 17\n"
     ]
    }
   ],
   "source": [
    "years_of_xp = int(input(\"How many years have you worked in PM?\"))"
   ]
  },
  {
   "cell_type": "code",
   "execution_count": 32,
   "id": "84004d34-f5d7-4517-8f74-9e71ac86f94c",
   "metadata": {},
   "outputs": [
    {
     "data": {
      "text/plain": [
       "int"
      ]
     },
     "execution_count": 32,
     "metadata": {},
     "output_type": "execute_result"
    }
   ],
   "source": [
    "type(years_of_xp)"
   ]
  },
  {
   "cell_type": "code",
   "execution_count": 33,
   "id": "45e874b8-f7e9-49fe-a7a0-8d1d327427b7",
   "metadata": {},
   "outputs": [
    {
     "name": "stdin",
     "output_type": "stream",
     "text": [
      "How many years have you worked in PM? 16.5\n"
     ]
    }
   ],
   "source": [
    "years_of_xp = input(\"How many years have you worked in PM?\")\n",
    "years_of_xp = float(years_of_xp)"
   ]
  },
  {
   "cell_type": "code",
   "execution_count": 34,
   "id": "9b6af4a9-72bc-43ec-ac37-5fdfa3e93a11",
   "metadata": {},
   "outputs": [
    {
     "data": {
      "text/plain": [
       "float"
      ]
     },
     "execution_count": 34,
     "metadata": {},
     "output_type": "execute_result"
    }
   ],
   "source": [
    "type(years_of_xp)"
   ]
  },
  {
   "cell_type": "code",
   "execution_count": 35,
   "id": "287a8b0a-6e81-4dae-9dbf-72abdf049e2e",
   "metadata": {},
   "outputs": [
    {
     "data": {
      "text/plain": [
       "['cow', 'horse', 'pig', 'chiken', 'sheep']"
      ]
     },
     "execution_count": 35,
     "metadata": {},
     "output_type": "execute_result"
    }
   ],
   "source": [
    "farm_animals"
   ]
  },
  {
   "cell_type": "code",
   "execution_count": 36,
   "id": "6366df16-35dd-45c4-863e-f38319b330bf",
   "metadata": {},
   "outputs": [
    {
     "name": "stdin",
     "output_type": "stream",
     "text": [
      "The cow goes... Moo\n",
      "The horse goes... Neighhh\n",
      "The pig goes... Oink\n",
      "The chiken goes... Cluck\n",
      "The sheep goes... Maa\n"
     ]
    }
   ],
   "source": [
    "for animal in farm_animals:\n",
    "    sound = input(f\"The {animal} goes...\")"
   ]
  },
  {
   "cell_type": "code",
   "execution_count": 37,
   "id": "432b2fd4-6e18-463d-a9a0-575ec44876a0",
   "metadata": {},
   "outputs": [
    {
     "name": "stdin",
     "output_type": "stream",
     "text": [
      "The cow goes... Moo\n",
      "The horse goes... Neigh\n",
      "The pig goes... Oink\n",
      "The chiken goes... Cluck\n",
      "The sheep goes... Baa\n"
     ]
    }
   ],
   "source": [
    "sounds = []\n",
    "for animal in farm_animals:\n",
    "    sound = input(f\"The {animal} goes...\")\n",
    "    sounds.append(sound)"
   ]
  },
  {
   "cell_type": "code",
   "execution_count": 38,
   "id": "5c421a13-2c24-4ca0-9261-7f36bfc50015",
   "metadata": {},
   "outputs": [
    {
     "data": {
      "text/plain": [
       "['Moo', 'Neigh', 'Oink', 'Cluck', 'Baa']"
      ]
     },
     "execution_count": 38,
     "metadata": {},
     "output_type": "execute_result"
    }
   ],
   "source": [
    "sounds"
   ]
  },
  {
   "cell_type": "code",
   "execution_count": 39,
   "id": "35cbb488-0b7e-4e93-b649-f4c04c6a0120",
   "metadata": {},
   "outputs": [],
   "source": [
    "# lists\n",
    "list_1 = ['a','b','c']"
   ]
  },
  {
   "cell_type": "code",
   "execution_count": 41,
   "id": "b2404010-a32b-4732-8f01-a35a9289fe69",
   "metadata": {},
   "outputs": [
    {
     "data": {
      "text/plain": [
       "'b'"
      ]
     },
     "execution_count": 41,
     "metadata": {},
     "output_type": "execute_result"
    }
   ],
   "source": [
    "list_1[1]"
   ]
  },
  {
   "cell_type": "code",
   "execution_count": 43,
   "id": "8ceb149b-4d02-4ccd-984a-fbc86b73bb85",
   "metadata": {},
   "outputs": [],
   "source": [
    "list_1.append('d')"
   ]
  },
  {
   "cell_type": "code",
   "execution_count": 44,
   "id": "5903af36-a5d3-4c53-b3d3-5d834b87f016",
   "metadata": {},
   "outputs": [
    {
     "data": {
      "text/plain": [
       "['a', 'b', 'c', 'd']"
      ]
     },
     "execution_count": 44,
     "metadata": {},
     "output_type": "execute_result"
    }
   ],
   "source": [
    "list_1"
   ]
  },
  {
   "cell_type": "code",
   "execution_count": 45,
   "id": "08bed220-4528-40ba-9629-9647865cd79a",
   "metadata": {},
   "outputs": [],
   "source": [
    "my_city = {\"name\":\"vero beach\",\n",
    "           \"state\":\"FL\",\n",
    "          \"population\":20000}"
   ]
  },
  {
   "cell_type": "code",
   "execution_count": 47,
   "id": "7d75d6d6-a101-40ec-a68a-ae4a49a061ca",
   "metadata": {},
   "outputs": [
    {
     "data": {
      "text/plain": [
       "'vero beach'"
      ]
     },
     "execution_count": 47,
     "metadata": {},
     "output_type": "execute_result"
    }
   ],
   "source": [
    "my_city[\"name\"]"
   ]
  },
  {
   "cell_type": "code",
   "execution_count": 48,
   "id": "4728c509-62af-4ba3-896f-590d3a7e7724",
   "metadata": {},
   "outputs": [
    {
     "data": {
      "text/plain": [
       "'FL'"
      ]
     },
     "execution_count": 48,
     "metadata": {},
     "output_type": "execute_result"
    }
   ],
   "source": [
    "my_city[\"state\"]"
   ]
  },
  {
   "cell_type": "code",
   "execution_count": 49,
   "id": "acae3307-8738-457a-8a67-102d4cd3171f",
   "metadata": {},
   "outputs": [],
   "source": [
    "my_city[\"main road\"] = \"ocean\""
   ]
  },
  {
   "cell_type": "code",
   "execution_count": 50,
   "id": "a297cbf8-41d3-46e0-a458-3c264a51a20c",
   "metadata": {},
   "outputs": [
    {
     "data": {
      "text/plain": [
       "{'name': 'vero beach',\n",
       " 'state': 'FL',\n",
       " 'population': 20000,\n",
       " 'main road': 'ocean'}"
      ]
     },
     "execution_count": 50,
     "metadata": {},
     "output_type": "execute_result"
    }
   ],
   "source": [
    "my_city"
   ]
  },
  {
   "cell_type": "code",
   "execution_count": null,
   "id": "11c31182-f8c1-48d8-bd4a-920b9b082538",
   "metadata": {},
   "outputs": [],
   "source": []
  }
 ],
 "metadata": {
  "kernelspec": {
   "display_name": "Python 3 (ipykernel)",
   "language": "python",
   "name": "python3"
  },
  "language_info": {
   "codemirror_mode": {
    "name": "ipython",
    "version": 3
   },
   "file_extension": ".py",
   "mimetype": "text/x-python",
   "name": "python",
   "nbconvert_exporter": "python",
   "pygments_lexer": "ipython3",
   "version": "3.9.7"
  }
 },
 "nbformat": 4,
 "nbformat_minor": 5
}
